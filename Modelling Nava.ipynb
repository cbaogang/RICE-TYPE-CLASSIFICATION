{
 "cells": [
  {
   "cell_type": "markdown",
   "id": "01fe5511",
   "metadata": {},
   "source": [
    "# Import libraries"
   ]
  },
  {
   "cell_type": "code",
   "execution_count": 1,
   "id": "98c95437",
   "metadata": {},
   "outputs": [],
   "source": [
    "# pip install statsmodels"
   ]
  },
  {
   "cell_type": "code",
   "execution_count": 2,
   "id": "53dd69db",
   "metadata": {},
   "outputs": [],
   "source": [
    "import numpy as np \n",
    "import pandas as pd\n",
    "import matplotlib.pyplot as plt\n",
    "import seaborn as sns\n",
    "from sklearn.model_selection import train_test_split\n",
    "from sklearn.preprocessing import StandardScaler\n",
    "from statsmodels.stats.outliers_influence import variance_inflation_factor"
   ]
  },
  {
   "cell_type": "markdown",
   "id": "9ddd660b",
   "metadata": {},
   "source": [
    "# Importing the dataset"
   ]
  },
  {
   "cell_type": "code",
   "execution_count": 3,
   "id": "ef8a61c7",
   "metadata": {},
   "outputs": [],
   "source": [
    "df = pd.read_csv('data/riceClassification.csv')"
   ]
  },
  {
   "cell_type": "markdown",
   "id": "960be27d",
   "metadata": {},
   "source": [
    "# 1.0 Dataset description"
   ]
  },
  {
   "cell_type": "code",
   "execution_count": 4,
   "id": "db171633",
   "metadata": {},
   "outputs": [
    {
     "data": {
      "text/html": [
       "<div>\n",
       "<style scoped>\n",
       "    .dataframe tbody tr th:only-of-type {\n",
       "        vertical-align: middle;\n",
       "    }\n",
       "\n",
       "    .dataframe tbody tr th {\n",
       "        vertical-align: top;\n",
       "    }\n",
       "\n",
       "    .dataframe thead th {\n",
       "        text-align: right;\n",
       "    }\n",
       "</style>\n",
       "<table border=\"1\" class=\"dataframe\">\n",
       "  <thead>\n",
       "    <tr style=\"text-align: right;\">\n",
       "      <th></th>\n",
       "      <th>id</th>\n",
       "      <th>Area</th>\n",
       "      <th>MajorAxisLength</th>\n",
       "      <th>MinorAxisLength</th>\n",
       "      <th>Eccentricity</th>\n",
       "      <th>ConvexArea</th>\n",
       "      <th>EquivDiameter</th>\n",
       "      <th>Extent</th>\n",
       "      <th>Perimeter</th>\n",
       "      <th>Roundness</th>\n",
       "      <th>AspectRation</th>\n",
       "      <th>Class</th>\n",
       "    </tr>\n",
       "  </thead>\n",
       "  <tbody>\n",
       "    <tr>\n",
       "      <th>0</th>\n",
       "      <td>1</td>\n",
       "      <td>4537</td>\n",
       "      <td>92.229316</td>\n",
       "      <td>64.012769</td>\n",
       "      <td>0.719916</td>\n",
       "      <td>4677</td>\n",
       "      <td>76.004525</td>\n",
       "      <td>0.657536</td>\n",
       "      <td>273.085</td>\n",
       "      <td>0.764510</td>\n",
       "      <td>1.440796</td>\n",
       "      <td>1</td>\n",
       "    </tr>\n",
       "    <tr>\n",
       "      <th>1</th>\n",
       "      <td>2</td>\n",
       "      <td>2872</td>\n",
       "      <td>74.691881</td>\n",
       "      <td>51.400454</td>\n",
       "      <td>0.725553</td>\n",
       "      <td>3015</td>\n",
       "      <td>60.471018</td>\n",
       "      <td>0.713009</td>\n",
       "      <td>208.317</td>\n",
       "      <td>0.831658</td>\n",
       "      <td>1.453137</td>\n",
       "      <td>1</td>\n",
       "    </tr>\n",
       "    <tr>\n",
       "      <th>2</th>\n",
       "      <td>3</td>\n",
       "      <td>3048</td>\n",
       "      <td>76.293164</td>\n",
       "      <td>52.043491</td>\n",
       "      <td>0.731211</td>\n",
       "      <td>3132</td>\n",
       "      <td>62.296341</td>\n",
       "      <td>0.759153</td>\n",
       "      <td>210.012</td>\n",
       "      <td>0.868434</td>\n",
       "      <td>1.465950</td>\n",
       "      <td>1</td>\n",
       "    </tr>\n",
       "    <tr>\n",
       "      <th>3</th>\n",
       "      <td>4</td>\n",
       "      <td>3073</td>\n",
       "      <td>77.033628</td>\n",
       "      <td>51.928487</td>\n",
       "      <td>0.738639</td>\n",
       "      <td>3157</td>\n",
       "      <td>62.551300</td>\n",
       "      <td>0.783529</td>\n",
       "      <td>210.657</td>\n",
       "      <td>0.870203</td>\n",
       "      <td>1.483456</td>\n",
       "      <td>1</td>\n",
       "    </tr>\n",
       "    <tr>\n",
       "      <th>4</th>\n",
       "      <td>5</td>\n",
       "      <td>3693</td>\n",
       "      <td>85.124785</td>\n",
       "      <td>56.374021</td>\n",
       "      <td>0.749282</td>\n",
       "      <td>3802</td>\n",
       "      <td>68.571668</td>\n",
       "      <td>0.769375</td>\n",
       "      <td>230.332</td>\n",
       "      <td>0.874743</td>\n",
       "      <td>1.510000</td>\n",
       "      <td>1</td>\n",
       "    </tr>\n",
       "  </tbody>\n",
       "</table>\n",
       "</div>"
      ],
      "text/plain": [
       "   id  Area  MajorAxisLength  MinorAxisLength  Eccentricity  ConvexArea  \\\n",
       "0   1  4537        92.229316        64.012769      0.719916        4677   \n",
       "1   2  2872        74.691881        51.400454      0.725553        3015   \n",
       "2   3  3048        76.293164        52.043491      0.731211        3132   \n",
       "3   4  3073        77.033628        51.928487      0.738639        3157   \n",
       "4   5  3693        85.124785        56.374021      0.749282        3802   \n",
       "\n",
       "   EquivDiameter    Extent  Perimeter  Roundness  AspectRation  Class  \n",
       "0      76.004525  0.657536    273.085   0.764510      1.440796      1  \n",
       "1      60.471018  0.713009    208.317   0.831658      1.453137      1  \n",
       "2      62.296341  0.759153    210.012   0.868434      1.465950      1  \n",
       "3      62.551300  0.783529    210.657   0.870203      1.483456      1  \n",
       "4      68.571668  0.769375    230.332   0.874743      1.510000      1  "
      ]
     },
     "execution_count": 4,
     "metadata": {},
     "output_type": "execute_result"
    }
   ],
   "source": [
    "df.head()"
   ]
  },
  {
   "cell_type": "code",
   "execution_count": 5,
   "id": "fbaf4c43",
   "metadata": {},
   "outputs": [
    {
     "name": "stdout",
     "output_type": "stream",
     "text": [
      "Total number of rows are: 18185\n",
      "Total number of columns are: 12\n"
     ]
    }
   ],
   "source": [
    "print('Total number of rows are:', df.shape[0])\n",
    "print('Total number of columns are:', df.shape[1])"
   ]
  },
  {
   "cell_type": "code",
   "execution_count": 6,
   "id": "b83a3fd7",
   "metadata": {},
   "outputs": [
    {
     "name": "stdout",
     "output_type": "stream",
     "text": [
      "['id', 'Area', 'MajorAxisLength', 'MinorAxisLength', 'Eccentricity', 'ConvexArea', 'EquivDiameter', 'Extent', 'Perimeter', 'Roundness', 'AspectRation', 'Class']\n"
     ]
    }
   ],
   "source": [
    "columns=df.columns.to_list()\n",
    "print(columns)"
   ]
  },
  {
   "cell_type": "markdown",
   "id": "25ecb64e",
   "metadata": {},
   "source": [
    "**All attributes are numeric variables and they are listed bellow:**\n",
    "\n",
    "* id\n",
    "* Area\n",
    "* MajorAxisLength\n",
    "* MinorAxisLength\n",
    "* Eccentricity\n",
    "* ConvexArea\n",
    "* EquivDiameter\n",
    "* Extent\n",
    "* Perimeter\n",
    "* Roundness\n",
    "* AspectRation\n",
    "* Class"
   ]
  },
  {
   "cell_type": "code",
   "execution_count": 7,
   "id": "0ba77bbe",
   "metadata": {},
   "outputs": [
    {
     "name": "stdout",
     "output_type": "stream",
     "text": [
      "<class 'pandas.core.frame.DataFrame'>\n",
      "RangeIndex: 18185 entries, 0 to 18184\n",
      "Data columns (total 12 columns):\n",
      " #   Column           Non-Null Count  Dtype  \n",
      "---  ------           --------------  -----  \n",
      " 0   id               18185 non-null  int64  \n",
      " 1   Area             18185 non-null  int64  \n",
      " 2   MajorAxisLength  18185 non-null  float64\n",
      " 3   MinorAxisLength  18185 non-null  float64\n",
      " 4   Eccentricity     18185 non-null  float64\n",
      " 5   ConvexArea       18185 non-null  int64  \n",
      " 6   EquivDiameter    18185 non-null  float64\n",
      " 7   Extent           18185 non-null  float64\n",
      " 8   Perimeter        18185 non-null  float64\n",
      " 9   Roundness        18185 non-null  float64\n",
      " 10  AspectRation     18185 non-null  float64\n",
      " 11  Class            18185 non-null  int64  \n",
      "dtypes: float64(8), int64(4)\n",
      "memory usage: 1.7 MB\n"
     ]
    }
   ],
   "source": [
    "df.info()"
   ]
  },
  {
   "cell_type": "markdown",
   "id": "5534d315",
   "metadata": {},
   "source": [
    "**It is clear from the above output that there are no categorical columns present in the dataset**"
   ]
  },
  {
   "cell_type": "code",
   "execution_count": 8,
   "id": "088ee13b",
   "metadata": {},
   "outputs": [
    {
     "data": {
      "text/plain": [
       "id                 0\n",
       "Area               0\n",
       "MajorAxisLength    0\n",
       "MinorAxisLength    0\n",
       "Eccentricity       0\n",
       "ConvexArea         0\n",
       "EquivDiameter      0\n",
       "Extent             0\n",
       "Perimeter          0\n",
       "Roundness          0\n",
       "AspectRation       0\n",
       "Class              0\n",
       "dtype: int64"
      ]
     },
     "execution_count": 8,
     "metadata": {},
     "output_type": "execute_result"
    }
   ],
   "source": [
    "df.isna().sum(axis=0)"
   ]
  },
  {
   "cell_type": "markdown",
   "id": "cb87b610",
   "metadata": {},
   "source": [
    "**count the number of missing values in each column, the above output that there are no missing value in the column**"
   ]
  },
  {
   "cell_type": "code",
   "execution_count": 9,
   "id": "099abd27",
   "metadata": {},
   "outputs": [
    {
     "data": {
      "text/html": [
       "<div>\n",
       "<style scoped>\n",
       "    .dataframe tbody tr th:only-of-type {\n",
       "        vertical-align: middle;\n",
       "    }\n",
       "\n",
       "    .dataframe tbody tr th {\n",
       "        vertical-align: top;\n",
       "    }\n",
       "\n",
       "    .dataframe thead th {\n",
       "        text-align: right;\n",
       "    }\n",
       "</style>\n",
       "<table border=\"1\" class=\"dataframe\">\n",
       "  <thead>\n",
       "    <tr style=\"text-align: right;\">\n",
       "      <th></th>\n",
       "      <th>id</th>\n",
       "      <th>Area</th>\n",
       "      <th>MajorAxisLength</th>\n",
       "      <th>MinorAxisLength</th>\n",
       "      <th>Eccentricity</th>\n",
       "      <th>ConvexArea</th>\n",
       "      <th>EquivDiameter</th>\n",
       "      <th>Extent</th>\n",
       "      <th>Perimeter</th>\n",
       "      <th>Roundness</th>\n",
       "      <th>AspectRation</th>\n",
       "      <th>Class</th>\n",
       "    </tr>\n",
       "  </thead>\n",
       "  <tbody>\n",
       "    <tr>\n",
       "      <th>count</th>\n",
       "      <td>18185.000000</td>\n",
       "      <td>18185.000000</td>\n",
       "      <td>18185.000000</td>\n",
       "      <td>18185.000000</td>\n",
       "      <td>18185.000000</td>\n",
       "      <td>18185.000000</td>\n",
       "      <td>18185.000000</td>\n",
       "      <td>18185.000000</td>\n",
       "      <td>18185.000000</td>\n",
       "      <td>18185.000000</td>\n",
       "      <td>18185.000000</td>\n",
       "      <td>18185.000000</td>\n",
       "    </tr>\n",
       "    <tr>\n",
       "      <th>mean</th>\n",
       "      <td>9093.000000</td>\n",
       "      <td>7036.492989</td>\n",
       "      <td>151.680754</td>\n",
       "      <td>59.807851</td>\n",
       "      <td>0.915406</td>\n",
       "      <td>7225.817872</td>\n",
       "      <td>94.132952</td>\n",
       "      <td>0.616653</td>\n",
       "      <td>351.606949</td>\n",
       "      <td>0.707998</td>\n",
       "      <td>2.599081</td>\n",
       "      <td>0.549079</td>\n",
       "    </tr>\n",
       "    <tr>\n",
       "      <th>std</th>\n",
       "      <td>5249.701658</td>\n",
       "      <td>1467.197150</td>\n",
       "      <td>12.376402</td>\n",
       "      <td>10.061653</td>\n",
       "      <td>0.030575</td>\n",
       "      <td>1502.006571</td>\n",
       "      <td>9.906250</td>\n",
       "      <td>0.104389</td>\n",
       "      <td>29.500620</td>\n",
       "      <td>0.067310</td>\n",
       "      <td>0.434836</td>\n",
       "      <td>0.497599</td>\n",
       "    </tr>\n",
       "    <tr>\n",
       "      <th>min</th>\n",
       "      <td>1.000000</td>\n",
       "      <td>2522.000000</td>\n",
       "      <td>74.133114</td>\n",
       "      <td>34.409894</td>\n",
       "      <td>0.676647</td>\n",
       "      <td>2579.000000</td>\n",
       "      <td>56.666658</td>\n",
       "      <td>0.383239</td>\n",
       "      <td>197.015000</td>\n",
       "      <td>0.174590</td>\n",
       "      <td>1.358128</td>\n",
       "      <td>0.000000</td>\n",
       "    </tr>\n",
       "    <tr>\n",
       "      <th>25%</th>\n",
       "      <td>4547.000000</td>\n",
       "      <td>5962.000000</td>\n",
       "      <td>145.675910</td>\n",
       "      <td>51.393151</td>\n",
       "      <td>0.891617</td>\n",
       "      <td>6125.000000</td>\n",
       "      <td>87.126656</td>\n",
       "      <td>0.538530</td>\n",
       "      <td>333.990000</td>\n",
       "      <td>0.650962</td>\n",
       "      <td>2.208527</td>\n",
       "      <td>0.000000</td>\n",
       "    </tr>\n",
       "    <tr>\n",
       "      <th>50%</th>\n",
       "      <td>9093.000000</td>\n",
       "      <td>6660.000000</td>\n",
       "      <td>153.883750</td>\n",
       "      <td>55.724288</td>\n",
       "      <td>0.923259</td>\n",
       "      <td>6843.000000</td>\n",
       "      <td>92.085696</td>\n",
       "      <td>0.601194</td>\n",
       "      <td>353.088000</td>\n",
       "      <td>0.701941</td>\n",
       "      <td>2.602966</td>\n",
       "      <td>1.000000</td>\n",
       "    </tr>\n",
       "    <tr>\n",
       "      <th>75%</th>\n",
       "      <td>13639.000000</td>\n",
       "      <td>8423.000000</td>\n",
       "      <td>160.056214</td>\n",
       "      <td>70.156593</td>\n",
       "      <td>0.941372</td>\n",
       "      <td>8645.000000</td>\n",
       "      <td>103.559146</td>\n",
       "      <td>0.695664</td>\n",
       "      <td>373.003000</td>\n",
       "      <td>0.769280</td>\n",
       "      <td>2.964101</td>\n",
       "      <td>1.000000</td>\n",
       "    </tr>\n",
       "    <tr>\n",
       "      <th>max</th>\n",
       "      <td>18185.000000</td>\n",
       "      <td>10210.000000</td>\n",
       "      <td>183.211434</td>\n",
       "      <td>82.550762</td>\n",
       "      <td>0.966774</td>\n",
       "      <td>11008.000000</td>\n",
       "      <td>114.016559</td>\n",
       "      <td>0.886573</td>\n",
       "      <td>508.511000</td>\n",
       "      <td>0.904748</td>\n",
       "      <td>3.911845</td>\n",
       "      <td>1.000000</td>\n",
       "    </tr>\n",
       "  </tbody>\n",
       "</table>\n",
       "</div>"
      ],
      "text/plain": [
       "                 id          Area  MajorAxisLength  MinorAxisLength  \\\n",
       "count  18185.000000  18185.000000     18185.000000     18185.000000   \n",
       "mean    9093.000000   7036.492989       151.680754        59.807851   \n",
       "std     5249.701658   1467.197150        12.376402        10.061653   \n",
       "min        1.000000   2522.000000        74.133114        34.409894   \n",
       "25%     4547.000000   5962.000000       145.675910        51.393151   \n",
       "50%     9093.000000   6660.000000       153.883750        55.724288   \n",
       "75%    13639.000000   8423.000000       160.056214        70.156593   \n",
       "max    18185.000000  10210.000000       183.211434        82.550762   \n",
       "\n",
       "       Eccentricity    ConvexArea  EquivDiameter        Extent     Perimeter  \\\n",
       "count  18185.000000  18185.000000   18185.000000  18185.000000  18185.000000   \n",
       "mean       0.915406   7225.817872      94.132952      0.616653    351.606949   \n",
       "std        0.030575   1502.006571       9.906250      0.104389     29.500620   \n",
       "min        0.676647   2579.000000      56.666658      0.383239    197.015000   \n",
       "25%        0.891617   6125.000000      87.126656      0.538530    333.990000   \n",
       "50%        0.923259   6843.000000      92.085696      0.601194    353.088000   \n",
       "75%        0.941372   8645.000000     103.559146      0.695664    373.003000   \n",
       "max        0.966774  11008.000000     114.016559      0.886573    508.511000   \n",
       "\n",
       "          Roundness  AspectRation         Class  \n",
       "count  18185.000000  18185.000000  18185.000000  \n",
       "mean       0.707998      2.599081      0.549079  \n",
       "std        0.067310      0.434836      0.497599  \n",
       "min        0.174590      1.358128      0.000000  \n",
       "25%        0.650962      2.208527      0.000000  \n",
       "50%        0.701941      2.602966      1.000000  \n",
       "75%        0.769280      2.964101      1.000000  \n",
       "max        0.904748      3.911845      1.000000  "
      ]
     },
     "execution_count": 9,
     "metadata": {},
     "output_type": "execute_result"
    }
   ],
   "source": [
    "df.describe()"
   ]
  },
  {
   "cell_type": "markdown",
   "id": "c7e2eca4",
   "metadata": {},
   "source": [
    "**INFERENCE**\n",
    "* The dataset conatins 10 features (Area to AspectRation) and 1 label (Class)\n",
    "* There are 18185 entires of data which is quite perfect for Machine Learning\n",
    "* there are no categorical columns present in the dataset, most of the features are of float64 datatype\n",
    "* There are no missing value in any features or data i.e. the dataset is quite clean"
   ]
  },
  {
   "cell_type": "markdown",
   "id": "e7ac3600",
   "metadata": {},
   "source": [
    "# 2.0 EDA"
   ]
  },
  {
   "cell_type": "markdown",
   "id": "e3b7a09c",
   "metadata": {},
   "source": [
    "### The distribution of the Class Column"
   ]
  },
  {
   "cell_type": "code",
   "execution_count": 10,
   "id": "faa0407e",
   "metadata": {},
   "outputs": [
    {
     "data": {
      "image/png": "[encoded data removed]",
      "text/plain": [
       "<Figure size 432x288 with 1 Axes>"
      ]
     },
     "metadata": {},
     "output_type": "display_data"
    }
   ],
   "source": [
    "# Checking whether dataset is balanced or not\n",
    "piechart = df['Class'].value_counts().plot(kind='pie')\n",
    "fig1 = piechart.get_figure()"
   ]
  },
  {
   "cell_type": "code",
   "execution_count": 11,
   "id": "f936b32c",
   "metadata": {},
   "outputs": [
    {
     "data": {
      "image/png": "[encoded data removed]",
      "text/plain": [
       "<Figure size 432x288 with 1 Axes>"
      ]
     },
     "metadata": {
      "needs_background": "light"
     },
     "output_type": "display_data"
    }
   ],
   "source": [
    "import seaborn as sns\n",
    "# Check the distribution of Class\n",
    "sns.countplot(x='Class', data=df)\n",
    "plt.title('Distribution of Class')\n",
    "plt.show()"
   ]
  },
  {
   "cell_type": "markdown",
   "id": "dcea3d2e",
   "metadata": {},
   "source": [
    "**From the above output figure it is clear that the output classes are pretty well balanced and there is no need of sampling.**"
   ]
  },
  {
   "cell_type": "markdown",
   "id": "ee19b82e",
   "metadata": {},
   "source": [
    "###  Drop id column"
   ]
  },
  {
   "cell_type": "code",
   "execution_count": 12,
   "id": "a4ea1102",
   "metadata": {},
   "outputs": [],
   "source": [
    "df = df.drop(columns = 'id', axis = 1)"
   ]
  },
  {
   "cell_type": "markdown",
   "id": "b89aa312",
   "metadata": {},
   "source": [
    "### Building correlation matrix"
   ]
  },
  {
   "cell_type": "code",
   "execution_count": 13,
   "id": "b6a2d380",
   "metadata": {},
   "outputs": [
    {
     "data": {
      "text/html": [
       "<div>\n",
       "<style scoped>\n",
       "    .dataframe tbody tr th:only-of-type {\n",
       "        vertical-align: middle;\n",
       "    }\n",
       "\n",
       "    .dataframe tbody tr th {\n",
       "        vertical-align: top;\n",
       "    }\n",
       "\n",
       "    .dataframe thead th {\n",
       "        text-align: right;\n",
       "    }\n",
       "</style>\n",
       "<table border=\"1\" class=\"dataframe\">\n",
       "  <thead>\n",
       "    <tr style=\"text-align: right;\">\n",
       "      <th></th>\n",
       "      <th>Area</th>\n",
       "      <th>MajorAxisLength</th>\n",
       "      <th>MinorAxisLength</th>\n",
       "      <th>Eccentricity</th>\n",
       "      <th>ConvexArea</th>\n",
       "      <th>EquivDiameter</th>\n",
       "      <th>Extent</th>\n",
       "      <th>Perimeter</th>\n",
       "      <th>Roundness</th>\n",
       "      <th>AspectRation</th>\n",
       "      <th>Class</th>\n",
       "    </tr>\n",
       "  </thead>\n",
       "  <tbody>\n",
       "    <tr>\n",
       "      <th>Area</th>\n",
       "      <td>1.000000</td>\n",
       "      <td>0.599939</td>\n",
       "      <td>0.930215</td>\n",
       "      <td>-0.550073</td>\n",
       "      <td>0.999362</td>\n",
       "      <td>0.998158</td>\n",
       "      <td>0.230541</td>\n",
       "      <td>0.881540</td>\n",
       "      <td>0.620490</td>\n",
       "      <td>-0.623979</td>\n",
       "      <td>-0.816589</td>\n",
       "    </tr>\n",
       "    <tr>\n",
       "      <th>MajorAxisLength</th>\n",
       "      <td>0.599939</td>\n",
       "      <td>1.000000</td>\n",
       "      <td>0.273211</td>\n",
       "      <td>0.295717</td>\n",
       "      <td>0.602061</td>\n",
       "      <td>0.618002</td>\n",
       "      <td>-0.073549</td>\n",
       "      <td>0.870178</td>\n",
       "      <td>-0.202566</td>\n",
       "      <td>0.240471</td>\n",
       "      <td>-0.147741</td>\n",
       "    </tr>\n",
       "    <tr>\n",
       "      <th>MinorAxisLength</th>\n",
       "      <td>0.930215</td>\n",
       "      <td>0.273211</td>\n",
       "      <td>1.000000</td>\n",
       "      <td>-0.808640</td>\n",
       "      <td>0.928992</td>\n",
       "      <td>0.923790</td>\n",
       "      <td>0.308541</td>\n",
       "      <td>0.674249</td>\n",
       "      <td>0.834398</td>\n",
       "      <td>-0.860516</td>\n",
       "      <td>-0.917766</td>\n",
       "    </tr>\n",
       "    <tr>\n",
       "      <th>Eccentricity</th>\n",
       "      <td>-0.550073</td>\n",
       "      <td>0.295717</td>\n",
       "      <td>-0.808640</td>\n",
       "      <td>1.000000</td>\n",
       "      <td>-0.547896</td>\n",
       "      <td>-0.534688</td>\n",
       "      <td>-0.329954</td>\n",
       "      <td>-0.165915</td>\n",
       "      <td>-0.903657</td>\n",
       "      <td>0.950301</td>\n",
       "      <td>0.788636</td>\n",
       "    </tr>\n",
       "    <tr>\n",
       "      <th>ConvexArea</th>\n",
       "      <td>0.999362</td>\n",
       "      <td>0.602061</td>\n",
       "      <td>0.928992</td>\n",
       "      <td>-0.547896</td>\n",
       "      <td>1.000000</td>\n",
       "      <td>0.997403</td>\n",
       "      <td>0.227359</td>\n",
       "      <td>0.886987</td>\n",
       "      <td>0.610236</td>\n",
       "      <td>-0.621472</td>\n",
       "      <td>-0.814214</td>\n",
       "    </tr>\n",
       "    <tr>\n",
       "      <th>EquivDiameter</th>\n",
       "      <td>0.998158</td>\n",
       "      <td>0.618002</td>\n",
       "      <td>0.923790</td>\n",
       "      <td>-0.534688</td>\n",
       "      <td>0.997403</td>\n",
       "      <td>1.000000</td>\n",
       "      <td>0.225944</td>\n",
       "      <td>0.891567</td>\n",
       "      <td>0.607432</td>\n",
       "      <td>-0.609957</td>\n",
       "      <td>-0.809361</td>\n",
       "    </tr>\n",
       "    <tr>\n",
       "      <th>Extent</th>\n",
       "      <td>0.230541</td>\n",
       "      <td>-0.073549</td>\n",
       "      <td>0.308541</td>\n",
       "      <td>-0.329954</td>\n",
       "      <td>0.227359</td>\n",
       "      <td>0.225944</td>\n",
       "      <td>1.000000</td>\n",
       "      <td>0.073227</td>\n",
       "      <td>0.366793</td>\n",
       "      <td>-0.350875</td>\n",
       "      <td>-0.303440</td>\n",
       "    </tr>\n",
       "    <tr>\n",
       "      <th>Perimeter</th>\n",
       "      <td>0.881540</td>\n",
       "      <td>0.870178</td>\n",
       "      <td>0.674249</td>\n",
       "      <td>-0.165915</td>\n",
       "      <td>0.886987</td>\n",
       "      <td>0.891567</td>\n",
       "      <td>0.073227</td>\n",
       "      <td>1.000000</td>\n",
       "      <td>0.186063</td>\n",
       "      <td>-0.227256</td>\n",
       "      <td>-0.533274</td>\n",
       "    </tr>\n",
       "    <tr>\n",
       "      <th>Roundness</th>\n",
       "      <td>0.620490</td>\n",
       "      <td>-0.202566</td>\n",
       "      <td>0.834398</td>\n",
       "      <td>-0.903657</td>\n",
       "      <td>0.610236</td>\n",
       "      <td>0.607432</td>\n",
       "      <td>0.366793</td>\n",
       "      <td>0.186063</td>\n",
       "      <td>1.000000</td>\n",
       "      <td>-0.947875</td>\n",
       "      <td>-0.831759</td>\n",
       "    </tr>\n",
       "    <tr>\n",
       "      <th>AspectRation</th>\n",
       "      <td>-0.623979</td>\n",
       "      <td>0.240471</td>\n",
       "      <td>-0.860516</td>\n",
       "      <td>0.950301</td>\n",
       "      <td>-0.621472</td>\n",
       "      <td>-0.609957</td>\n",
       "      <td>-0.350875</td>\n",
       "      <td>-0.227256</td>\n",
       "      <td>-0.947875</td>\n",
       "      <td>1.000000</td>\n",
       "      <td>0.832563</td>\n",
       "    </tr>\n",
       "    <tr>\n",
       "      <th>Class</th>\n",
       "      <td>-0.816589</td>\n",
       "      <td>-0.147741</td>\n",
       "      <td>-0.917766</td>\n",
       "      <td>0.788636</td>\n",
       "      <td>-0.814214</td>\n",
       "      <td>-0.809361</td>\n",
       "      <td>-0.303440</td>\n",
       "      <td>-0.533274</td>\n",
       "      <td>-0.831759</td>\n",
       "      <td>0.832563</td>\n",
       "      <td>1.000000</td>\n",
       "    </tr>\n",
       "  </tbody>\n",
       "</table>\n",
       "</div>"
      ],
      "text/plain": [
       "                     Area  MajorAxisLength  MinorAxisLength  Eccentricity  \\\n",
       "Area             1.000000         0.599939         0.930215     -0.550073   \n",
       "MajorAxisLength  0.599939         1.000000         0.273211      0.295717   \n",
       "MinorAxisLength  0.930215         0.273211         1.000000     -0.808640   \n",
       "Eccentricity    -0.550073         0.295717        -0.808640      1.000000   \n",
       "ConvexArea       0.999362         0.602061         0.928992     -0.547896   \n",
       "EquivDiameter    0.998158         0.618002         0.923790     -0.534688   \n",
       "Extent           0.230541        -0.073549         0.308541     -0.329954   \n",
       "Perimeter        0.881540         0.870178         0.674249     -0.165915   \n",
       "Roundness        0.620490        -0.202566         0.834398     -0.903657   \n",
       "AspectRation    -0.623979         0.240471        -0.860516      0.950301   \n",
       "Class           -0.816589        -0.147741        -0.917766      0.788636   \n",
       "\n",
       "                 ConvexArea  EquivDiameter    Extent  Perimeter  Roundness  \\\n",
       "Area               0.999362       0.998158  0.230541   0.881540   0.620490   \n",
       "MajorAxisLength    0.602061       0.618002 -0.073549   0.870178  -0.202566   \n",
       "MinorAxisLength    0.928992       0.923790  0.308541   0.674249   0.834398   \n",
       "Eccentricity      -0.547896      -0.534688 -0.329954  -0.165915  -0.903657   \n",
       "ConvexArea         1.000000       0.997403  0.227359   0.886987   0.610236   \n",
       "EquivDiameter      0.997403       1.000000  0.225944   0.891567   0.607432   \n",
       "Extent             0.227359       0.225944  1.000000   0.073227   0.366793   \n",
       "Perimeter          0.886987       0.891567  0.073227   1.000000   0.186063   \n",
       "Roundness          0.610236       0.607432  0.366793   0.186063   1.000000   \n",
       "AspectRation      -0.621472      -0.609957 -0.350875  -0.227256  -0.947875   \n",
       "Class             -0.814214      -0.809361 -0.303440  -0.533274  -0.831759   \n",
       "\n",
       "                 AspectRation     Class  \n",
       "Area                -0.623979 -0.816589  \n",
       "MajorAxisLength      0.240471 -0.147741  \n",
       "MinorAxisLength     -0.860516 -0.917766  \n",
       "Eccentricity         0.950301  0.788636  \n",
       "ConvexArea          -0.621472 -0.814214  \n",
       "EquivDiameter       -0.609957 -0.809361  \n",
       "Extent              -0.350875 -0.303440  \n",
       "Perimeter           -0.227256 -0.533274  \n",
       "Roundness           -0.947875 -0.831759  \n",
       "AspectRation         1.000000  0.832563  \n",
       "Class                0.832563  1.000000  "
      ]
     },
     "execution_count": 13,
     "metadata": {},
     "output_type": "execute_result"
    }
   ],
   "source": [
    "correlation_mat=df.corr()\n",
    "correlation_mat"
   ]
  },
  {
   "cell_type": "code",
   "execution_count": 14,
   "id": "b7f4a6d1",
   "metadata": {},
   "outputs": [
    {
     "data": {
      "image/png": "[encoded data removed]",
      "text/plain": [
       "<Figure size 864x720 with 2 Axes>"
      ]
     },
     "metadata": {
      "needs_background": "light"
     },
     "output_type": "display_data"
    }
   ],
   "source": [
    "corr_features = correlation_mat.index\n",
    "\n",
    "plt.figure(figsize=(12,10))\n",
    "sns.set(font_scale=1.2)\n",
    "\n",
    "# Set mask to display only the lower triangular part of the heatmap\n",
    "mask = np.zeros_like(df[corr_features].corr())\n",
    "mask[np.triu_indices_from(mask)] = True\n",
    "\n",
    "g = sns.heatmap(df[corr_features].corr(), annot=True, fmt='.2f', \n",
    "                linewidths=.5, annot_kws={\"size\": 14}, mask=mask)\n",
    "\n",
    "g.set_xticklabels(g.get_xticklabels(), rotation=45, ha='right', fontsize=12)\n",
    "g.set_yticklabels(g.get_yticklabels(), rotation=0, ha='right', fontsize=12)\n",
    "plt.title('Correlation Matrix', fontsize=20, fontweight='bold')\n",
    "plt.tight_layout()\n",
    "plt.show()\n"
   ]
  },
  {
   "cell_type": "markdown",
   "id": "b6c1b09e",
   "metadata": {},
   "source": [
    "**INFERENCE:**\n",
    "\n",
    "**The highest negative correlations are between:**\n",
    "\n",
    "* feature-to-feature - Roundness and AspectRatio (-0.95), Roundness and Eccentricity (-0.90), MinorAxisLenght and AxisRatio (-0.86), MinorAxisLenght and Eccentricity (-0.81)\n",
    "\n",
    "* feature-to-class - MinorAxisLenght (-0.92), Roundness (-0.83), Area (-0.82), ConvexArea (-0.81), EquivDiameter (-0.81)\n",
    "\n",
    "**The highest positive correlations are between:**\n",
    "\n",
    "* feature-to-feature - AspectRatio and Eccentricity (0.95), Area and MinorAxisLenght (0.93), MinorAxisLenght and ConvexArea (0.93), MinorAxisLenght and EquivDiameter (0.92), ConvexArea and Perimeter (0.89), EquivDiameter and Perimeter (0.89), Area and Perimeter (0.88), MajorAxisLenght and Perimeter (0.87), MinorAxisLength and Roudness (0.83)\n",
    "\n",
    "* feature-to-class - AspectRatio (0.83), Eccentricity (0.79)\n",
    "\n",
    "**We can see that ,MinorAxisLength,AspectRation,Roundness,Area,ConvexArea,EquivDiameter and Eccentricity have a very high correlation with the target variable.**"
   ]
  },
  {
   "cell_type": "markdown",
   "id": "e251b691",
   "metadata": {},
   "source": [
    "### Check Multicollinearity by using VIF"
   ]
  },
  {
   "cell_type": "markdown",
   "id": "22346731",
   "metadata": {},
   "source": [
    "multicollinearity using Variable Inflation Factors (VIF). Unlike Correlation matrix, VIF determines the strength of the correlation of a variable with a group of other independent variables in a dataset. VIF starts usually at 1 and anywhere exceeding 10 indicates high multicollinearity between the independent variables."
   ]
  },
  {
   "cell_type": "code",
   "execution_count": 15,
   "id": "cbd7908d",
   "metadata": {},
   "outputs": [],
   "source": [
    "def VIF(dataframe,chosen_cols):\n",
    "    from statsmodels.stats.outliers_influence import variance_inflation_factor as VIF\n",
    "    from statsmodels.tools.tools import add_constant\n",
    "    X=dataframe[chosen_cols]\n",
    "    X=add_constant(X)\n",
    "    vif_data=pd.DataFrame()\n",
    "    vif_data[\"feature\"]=X.columns\n",
    "    vif_data[\"VIF\"]=[VIF(X.values, i) for i in range(len(X.columns))]\n",
    "    return vif_data"
   ]
  },
  {
   "cell_type": "code",
   "execution_count": 16,
   "id": "26ca5a83",
   "metadata": {},
   "outputs": [
    {
     "name": "stderr",
     "output_type": "stream",
     "text": [
      "C:\\Users\\hp\\anaconda3\\lib\\site-packages\\statsmodels\\tsa\\tsatools.py:142: FutureWarning: In a future version of pandas all arguments of concat except for the argument 'objs' will be keyword-only\n",
      "  x = pd.concat(x[::order], 1)\n"
     ]
    },
    {
     "data": {
      "text/html": [
       "<div>\n",
       "<style scoped>\n",
       "    .dataframe tbody tr th:only-of-type {\n",
       "        vertical-align: middle;\n",
       "    }\n",
       "\n",
       "    .dataframe tbody tr th {\n",
       "        vertical-align: top;\n",
       "    }\n",
       "\n",
       "    .dataframe thead th {\n",
       "        text-align: right;\n",
       "    }\n",
       "</style>\n",
       "<table border=\"1\" class=\"dataframe\">\n",
       "  <thead>\n",
       "    <tr style=\"text-align: right;\">\n",
       "      <th></th>\n",
       "      <th>feature</th>\n",
       "      <th>VIF</th>\n",
       "    </tr>\n",
       "  </thead>\n",
       "  <tbody>\n",
       "    <tr>\n",
       "      <th>0</th>\n",
       "      <td>const</td>\n",
       "      <td>103954.790226</td>\n",
       "    </tr>\n",
       "    <tr>\n",
       "      <th>1</th>\n",
       "      <td>Area</td>\n",
       "      <td>2347.459870</td>\n",
       "    </tr>\n",
       "    <tr>\n",
       "      <th>2</th>\n",
       "      <td>MajorAxisLength</td>\n",
       "      <td>318.714833</td>\n",
       "    </tr>\n",
       "    <tr>\n",
       "      <th>3</th>\n",
       "      <td>MinorAxisLength</td>\n",
       "      <td>1296.490608</td>\n",
       "    </tr>\n",
       "    <tr>\n",
       "      <th>4</th>\n",
       "      <td>Eccentricity</td>\n",
       "      <td>51.971818</td>\n",
       "    </tr>\n",
       "    <tr>\n",
       "      <th>5</th>\n",
       "      <td>ConvexArea</td>\n",
       "      <td>1813.854237</td>\n",
       "    </tr>\n",
       "    <tr>\n",
       "      <th>6</th>\n",
       "      <td>EquivDiameter</td>\n",
       "      <td>2844.995049</td>\n",
       "    </tr>\n",
       "    <tr>\n",
       "      <th>7</th>\n",
       "      <td>Extent</td>\n",
       "      <td>1.157557</td>\n",
       "    </tr>\n",
       "    <tr>\n",
       "      <th>8</th>\n",
       "      <td>Perimeter</td>\n",
       "      <td>346.462939</td>\n",
       "    </tr>\n",
       "    <tr>\n",
       "      <th>9</th>\n",
       "      <td>Roundness</td>\n",
       "      <td>157.668241</td>\n",
       "    </tr>\n",
       "    <tr>\n",
       "      <th>10</th>\n",
       "      <td>AspectRation</td>\n",
       "      <td>118.998499</td>\n",
       "    </tr>\n",
       "  </tbody>\n",
       "</table>\n",
       "</div>"
      ],
      "text/plain": [
       "            feature            VIF\n",
       "0             const  103954.790226\n",
       "1              Area    2347.459870\n",
       "2   MajorAxisLength     318.714833\n",
       "3   MinorAxisLength    1296.490608\n",
       "4      Eccentricity      51.971818\n",
       "5        ConvexArea    1813.854237\n",
       "6     EquivDiameter    2844.995049\n",
       "7            Extent       1.157557\n",
       "8         Perimeter     346.462939\n",
       "9         Roundness     157.668241\n",
       "10     AspectRation     118.998499"
      ]
     },
     "execution_count": 16,
     "metadata": {},
     "output_type": "execute_result"
    }
   ],
   "source": [
    "chosen_cols=['Area', 'MajorAxisLength', 'MinorAxisLength', 'Eccentricity', 'ConvexArea', 'EquivDiameter', 'Extent', 'Perimeter', 'Roundness', 'AspectRation']\n",
    "\n",
    "VIF(df,chosen_cols)"
   ]
  },
  {
   "cell_type": "markdown",
   "id": "1046213a",
   "metadata": {},
   "source": [
    "**In the context of calculating VIF (Variance Inflation Factor), a VIF value of 10 or higher is often considered a sign of multicollinearity between the independent variables.here we have super high values,Let’s try to drop some of the correlated features to see if it help us in bringing down the multicollinearity between correlated features**"
   ]
  },
  {
   "cell_type": "code",
   "execution_count": 17,
   "id": "ec98e189",
   "metadata": {},
   "outputs": [
    {
     "name": "stderr",
     "output_type": "stream",
     "text": [
      "C:\\Users\\hp\\anaconda3\\lib\\site-packages\\statsmodels\\tsa\\tsatools.py:142: FutureWarning: In a future version of pandas all arguments of concat except for the argument 'objs' will be keyword-only\n",
      "  x = pd.concat(x[::order], 1)\n"
     ]
    },
    {
     "data": {
      "text/html": [
       "<div>\n",
       "<style scoped>\n",
       "    .dataframe tbody tr th:only-of-type {\n",
       "        vertical-align: middle;\n",
       "    }\n",
       "\n",
       "    .dataframe tbody tr th {\n",
       "        vertical-align: top;\n",
       "    }\n",
       "\n",
       "    .dataframe thead th {\n",
       "        text-align: right;\n",
       "    }\n",
       "</style>\n",
       "<table border=\"1\" class=\"dataframe\">\n",
       "  <thead>\n",
       "    <tr style=\"text-align: right;\">\n",
       "      <th></th>\n",
       "      <th>feature</th>\n",
       "      <th>VIF</th>\n",
       "    </tr>\n",
       "  </thead>\n",
       "  <tbody>\n",
       "    <tr>\n",
       "      <th>0</th>\n",
       "      <td>const</td>\n",
       "      <td>8707.834300</td>\n",
       "    </tr>\n",
       "    <tr>\n",
       "      <th>1</th>\n",
       "      <td>MajorAxisLength</td>\n",
       "      <td>1.123905</td>\n",
       "    </tr>\n",
       "    <tr>\n",
       "      <th>2</th>\n",
       "      <td>Roundness</td>\n",
       "      <td>5.753991</td>\n",
       "    </tr>\n",
       "    <tr>\n",
       "      <th>3</th>\n",
       "      <td>Eccentricity</td>\n",
       "      <td>5.876661</td>\n",
       "    </tr>\n",
       "    <tr>\n",
       "      <th>4</th>\n",
       "      <td>Extent</td>\n",
       "      <td>1.155467</td>\n",
       "    </tr>\n",
       "  </tbody>\n",
       "</table>\n",
       "</div>"
      ],
      "text/plain": [
       "           feature          VIF\n",
       "0            const  8707.834300\n",
       "1  MajorAxisLength     1.123905\n",
       "2        Roundness     5.753991\n",
       "3     Eccentricity     5.876661\n",
       "4           Extent     1.155467"
      ]
     },
     "execution_count": 17,
     "metadata": {},
     "output_type": "execute_result"
    }
   ],
   "source": [
    "new_chosen_cols=[\"MajorAxisLength\",\"Roundness\",\"Eccentricity\",\"Extent\"]\n",
    "VIF(df,new_chosen_cols)"
   ]
  },
  {
   "cell_type": "markdown",
   "id": "9034b861",
   "metadata": {},
   "source": [
    "**VIF values for all the independent variables have decreased to a considerable extent.**"
   ]
  },
  {
   "cell_type": "markdown",
   "id": "9e2f5a8e",
   "metadata": {},
   "source": [
    "# 3.0 Data Preprocessing"
   ]
  },
  {
   "cell_type": "markdown",
   "id": "c2261ae3",
   "metadata": {},
   "source": [
    "### Inter Quartile Range to detect outliers"
   ]
  },
  {
   "attachments": {
    "image.png": {
     "image/png": "[encoded data removed]"
    }
   },
   "cell_type": "markdown",
   "id": "7f437bc4",
   "metadata": {},
   "source": [
    "![image.png](attachment:image.png)"
   ]
  },
  {
   "cell_type": "markdown",
   "id": "5c42edd6",
   "metadata": {},
   "source": [
    "* minimum is the minimum value in the dataset and maximum is the maximum value in the dataset. So the difference between the two tells us about the range of dataset.\n",
    "\n",
    "* The median is the median (or centre point), also called second quartile, of the data (resulting from the fact that the data is ordered).\n",
    "\n",
    "* Q1 is the first quartile of the data, i.e., to say 25% of the data lies between minimum and Q1.\n",
    "\n",
    "* Q3 is the third quartile of the data, i.e., to say 75% of the data lies between minimum and Q3.\n",
    "\n",
    "* The difference between Q3 and Q1 is called the Inter-Quartile Range or IQR."
   ]
  },
  {
   "cell_type": "markdown",
   "id": "6c40b808",
   "metadata": {},
   "source": [
    "### Box Plot of each feature before Outlier Detection"
   ]
  },
  {
   "cell_type": "code",
   "execution_count": 18,
   "id": "a027194e",
   "metadata": {},
   "outputs": [
    {
     "data": {
      "image/png": "[encoded data removed]",
      "text/plain": [
       "<Figure size 1440x1800 with 10 Axes>"
      ]
     },
     "metadata": {},
     "output_type": "display_data"
    }
   ],
   "source": [
    "fig, axes = plt.subplots(5,2, figsize=(20,25))\n",
    "fig.suptitle('Box Plot Before Outlier Detection')\n",
    "k = 0\n",
    "for i in range(0,5):\n",
    "    for j in range(0,2):\n",
    "        sns.boxplot(ax=axes[i,j], data=df, x=df.columns[k])\n",
    "        k=k+1"
   ]
  },
  {
   "cell_type": "markdown",
   "id": "bd291c9d",
   "metadata": {},
   "source": [
    "### Removing the outliers"
   ]
  },
  {
   "cell_type": "code",
   "execution_count": 19,
   "id": "6477cc40",
   "metadata": {},
   "outputs": [],
   "source": [
    " \"\"\"\n",
    "    Calculates the Interquartile Range (IQR) for a given column in df \n",
    "    Returns the upper and lower bounds of the IQR.\n",
    "\"\"\"\n",
    "def iqr_calculation(col):\n",
    "    Q1 = np.percentile(col, 25)\n",
    "    Q3 = np.percentile(col, 75)\n",
    "    IQR = Q3 - Q1\n",
    "    upper = np.where(col >= (Q3 + 1.5 * IQR))[0]\n",
    "    lower = np.where(col <= (Q1 - 1.5 * IQR))[0]\n",
    "    return upper, lower\n",
    "    \n",
    "def remove_outliers(df, col_name):\n",
    "    upper, lower = iqr_calculation(df[col_name])\n",
    "    if len(upper) == 0 and len(lower) == 0:\n",
    "        print(\"No outliers are removed\")\n",
    "        return df\n",
    "    else:\n",
    "        df = df.drop(upper).drop(lower)\n",
    "        print(\"New Shape: \", df.shape)\n",
    "        return df.reset_index(drop=True)"
   ]
  },
  {
   "cell_type": "code",
   "execution_count": 20,
   "id": "11966558",
   "metadata": {
    "scrolled": true
   },
   "outputs": [
    {
     "name": "stdout",
     "output_type": "stream",
     "text": [
      "For Area\n",
      "No outliers are removed\n",
      "For MajorAxisLength\n",
      "New Shape:  (17647, 11)\n",
      "For MinorAxisLength\n",
      "No outliers are removed\n",
      "For Eccentricity\n",
      "New Shape:  (17631, 11)\n",
      "For ConvexArea\n",
      "No outliers are removed\n",
      "For EquivDiameter\n",
      "No outliers are removed\n",
      "For Extent\n",
      "No outliers are removed\n",
      "For Perimeter\n",
      "New Shape:  (17602, 11)\n",
      "For Roundness\n",
      "New Shape:  (17597, 11)\n",
      "For AspectRation\n",
      "No outliers are removed\n"
     ]
    }
   ],
   "source": [
    "main_df = df.copy()\n",
    "\n",
    "for col in main_df.columns[:-1]:\n",
    "    print('For', col)\n",
    "    main_df = remove_outliers(main_df, col)\n",
    "\n",
    "df = main_df"
   ]
  },
  {
   "cell_type": "markdown",
   "id": "e654b100",
   "metadata": {},
   "source": [
    "### Box Plot of each feature after Outlier Detection"
   ]
  },
  {
   "cell_type": "code",
   "execution_count": 21,
   "id": "bc6534cd",
   "metadata": {},
   "outputs": [
    {
     "data": {
      "image/png": "[encoded data removed]",
      "text/plain": [
       "<Figure size 1440x1800 with 10 Axes>"
      ]
     },
     "metadata": {},
     "output_type": "display_data"
    }
   ],
   "source": [
    "fig, axes = plt.subplots(5,2, figsize=(20,25))\n",
    "fig.suptitle('Box Plot After Removing the Outliers')\n",
    "k = 0\n",
    "for i in range(0,5):\n",
    "    for j in range(0,2):\n",
    "        col_name = df.columns[k]\n",
    "        sns.boxplot(ax=axes[i,j], data=df,x=col_name)\n",
    "        k=k+1"
   ]
  },
  {
   "cell_type": "code",
   "execution_count": 22,
   "id": "577dba61",
   "metadata": {},
   "outputs": [
    {
     "data": {
      "text/plain": [
       "(17597, 11)"
      ]
     },
     "execution_count": 22,
     "metadata": {},
     "output_type": "execute_result"
    }
   ],
   "source": [
    "df.shape"
   ]
  },
  {
   "cell_type": "markdown",
   "id": "ea010c85",
   "metadata": {},
   "source": [
    "# 4.0 Splitting the train and test data"
   ]
  },
  {
   "cell_type": "code",
   "execution_count": 23,
   "id": "fc25be67",
   "metadata": {},
   "outputs": [],
   "source": [
    "X=df[[\"MajorAxisLength\",\"Roundness\",\"Eccentricity\",\"Extent\"]]\n",
    "y=df[\"Class\"]\n",
    "\n",
    "X_train,X_test,y_train,y_test = train_test_split(X,y,test_size=0.3,random_state=42)"
   ]
  },
  {
   "cell_type": "markdown",
   "id": "0c629581",
   "metadata": {},
   "source": [
    "### Standardization"
   ]
  },
  {
   "cell_type": "code",
   "execution_count": 24,
   "id": "a032feab",
   "metadata": {},
   "outputs": [
    {
     "data": {
      "text/plain": [
       "array([[-0.22947603, -0.79852573,  0.73387877,  0.50650271],\n",
       "       [ 0.37240698,  0.76111001, -0.96377629, -0.11797718],\n",
       "       [ 0.59292898, -1.66834014,  1.56394508, -1.88201494],\n",
       "       ...,\n",
       "       [ 1.08939692, -0.82063083,  0.91627689, -1.31857217],\n",
       "       [-0.10765373, -0.9658156 ,  0.32824037, -1.03881585],\n",
       "       [ 0.40863635,  0.80903888, -0.66096941, -0.4926156 ]])"
      ]
     },
     "execution_count": 24,
     "metadata": {},
     "output_type": "execute_result"
    }
   ],
   "source": [
    "scaler = StandardScaler()\n",
    "X_train = scaler.fit_transform(X_train)\n",
    "X_train"
   ]
  },
  {
   "cell_type": "code",
   "execution_count": 25,
   "id": "4c83340c",
   "metadata": {},
   "outputs": [
    {
     "data": {
      "text/plain": [
       "array([[-1.17932721, -0.29294766,  0.44123002, -0.43392902],\n",
       "       [ 1.35059936, -0.21465292,  0.65135606, -1.26869849],\n",
       "       [ 1.0511613 ,  1.14707079, -1.48612111, -0.17214309],\n",
       "       ...,\n",
       "       [-1.29257639,  0.76827926, -1.07253233,  0.12099944],\n",
       "       [ 0.06774699,  0.56091168, -0.43711659,  1.4088493 ],\n",
       "       [ 0.5792953 , -0.98653376,  1.12399191,  1.10935002]])"
      ]
     },
     "execution_count": 25,
     "metadata": {},
     "output_type": "execute_result"
    }
   ],
   "source": [
    "X_test = scaler.transform(X_test)\n",
    "X_test"
   ]
  },
  {
   "cell_type": "code",
   "execution_count": 26,
   "id": "d2279af9",
   "metadata": {},
   "outputs": [],
   "source": [
    "#Decisison Tree\n",
    "from sklearn.tree import DecisionTreeClassifier\n",
    "model = DecisionTreeClassifier()\n",
    "model = model.fit(X_train, y_train)\n",
    "y_model = model.predict(X_test)"
   ]
  },
  {
   "cell_type": "code",
   "execution_count": 27,
   "id": "c2cc2d68",
   "metadata": {},
   "outputs": [
    {
     "data": {
      "text/plain": [
       "0.9821969696969697"
      ]
     },
     "execution_count": 27,
     "metadata": {},
     "output_type": "execute_result"
    }
   ],
   "source": [
    "from sklearn.metrics import accuracy_score\n",
    "accuracy_score(y_test, y_model)"
   ]
  },
  {
   "cell_type": "code",
   "execution_count": 28,
   "id": "0bfccaac",
   "metadata": {},
   "outputs": [
    {
     "name": "stdout",
     "output_type": "stream",
     "text": [
      "              precision    recall  f1-score   support\n",
      "\n",
      "           0       0.98      0.98      0.98      2409\n",
      "           1       0.99      0.98      0.98      2871\n",
      "\n",
      "    accuracy                           0.98      5280\n",
      "   macro avg       0.98      0.98      0.98      5280\n",
      "weighted avg       0.98      0.98      0.98      5280\n",
      "\n",
      "[[2367   42]\n",
      " [  52 2819]]\n"
     ]
    }
   ],
   "source": [
    "from sklearn.metrics import classification_report\n",
    "from sklearn.metrics import confusion_matrix\n",
    "print(classification_report(y_test, y_model))\n",
    "print(confusion_matrix(y_test, y_model))"
   ]
  },
  {
   "cell_type": "code",
   "execution_count": 29,
   "id": "c658eb7c",
   "metadata": {},
   "outputs": [
    {
     "data": {
      "text/plain": [
       "[Text(0.44588765337423314, 0.96875, 'x[2] <= -0.072\\ngini = 0.497\\nsamples = 12317\\nvalue = [5646, 6671]'),\n",
       " Text(0.22555598159509202, 0.90625, 'x[2] <= -0.273\\ngini = 0.048\\nsamples = 5670\\nvalue = [5530, 140]'),\n",
       " Text(0.09758435582822086, 0.84375, 'x[0] <= -2.4\\ngini = 0.025\\nsamples = 5449\\nvalue = [5379, 70]'),\n",
       " Text(0.05214723926380368, 0.78125, 'x[2] <= -0.962\\ngini = 0.434\\nsamples = 91\\nvalue = [62, 29]'),\n",
       " Text(0.03680981595092025, 0.71875, 'x[0] <= -2.421\\ngini = 0.089\\nsamples = 64\\nvalue = [61, 3]'),\n",
       " Text(0.024539877300613498, 0.65625, 'x[0] <= -2.734\\ngini = 0.062\\nsamples = 62\\nvalue = [60, 2]'),\n",
       " Text(0.018404907975460124, 0.59375, 'x[0] <= -2.743\\ngini = 0.278\\nsamples = 12\\nvalue = [10, 2]'),\n",
       " Text(0.012269938650306749, 0.53125, 'x[0] <= -2.777\\ngini = 0.165\\nsamples = 11\\nvalue = [10, 1]'),\n",
       " Text(0.006134969325153374, 0.46875, 'gini = 0.0\\nsamples = 8\\nvalue = [8, 0]'),\n",
       " Text(0.018404907975460124, 0.46875, 'x[3] <= 0.359\\ngini = 0.444\\nsamples = 3\\nvalue = [2, 1]'),\n",
       " Text(0.012269938650306749, 0.40625, 'gini = 0.0\\nsamples = 1\\nvalue = [0, 1]'),\n",
       " Text(0.024539877300613498, 0.40625, 'gini = 0.0\\nsamples = 2\\nvalue = [2, 0]'),\n",
       " Text(0.024539877300613498, 0.53125, 'gini = 0.0\\nsamples = 1\\nvalue = [0, 1]'),\n",
       " Text(0.03067484662576687, 0.59375, 'gini = 0.0\\nsamples = 50\\nvalue = [50, 0]'),\n",
       " Text(0.049079754601226995, 0.65625, 'x[3] <= 0.558\\ngini = 0.5\\nsamples = 2\\nvalue = [1, 1]'),\n",
       " Text(0.04294478527607362, 0.59375, 'gini = 0.0\\nsamples = 1\\nvalue = [0, 1]'),\n",
       " Text(0.05521472392638037, 0.59375, 'gini = 0.0\\nsamples = 1\\nvalue = [1, 0]'),\n",
       " Text(0.06748466257668712, 0.71875, 'x[1] <= 0.973\\ngini = 0.071\\nsamples = 27\\nvalue = [1, 26]'),\n",
       " Text(0.06134969325153374, 0.65625, 'gini = 0.0\\nsamples = 24\\nvalue = [0, 24]'),\n",
       " Text(0.0736196319018405, 0.65625, 'x[0] <= -2.559\\ngini = 0.444\\nsamples = 3\\nvalue = [1, 2]'),\n",
       " Text(0.06748466257668712, 0.59375, 'gini = 0.0\\nsamples = 2\\nvalue = [0, 2]'),\n",
       " Text(0.07975460122699386, 0.59375, 'gini = 0.0\\nsamples = 1\\nvalue = [1, 0]'),\n",
       " Text(0.14302147239263804, 0.78125, 'x[1] <= -0.432\\ngini = 0.015\\nsamples = 5358\\nvalue = [5317, 41]'),\n",
       " Text(0.10429447852760736, 0.71875, 'x[0] <= -0.43\\ngini = 0.413\\nsamples = 24\\nvalue = [17, 7]'),\n",
       " Text(0.09815950920245399, 0.65625, 'x[2] <= -0.958\\ngini = 0.463\\nsamples = 11\\nvalue = [4, 7]'),\n",
       " Text(0.09202453987730061, 0.59375, 'gini = 0.0\\nsamples = 4\\nvalue = [4, 0]'),\n",
       " Text(0.10429447852760736, 0.59375, 'gini = 0.0\\nsamples = 7\\nvalue = [0, 7]'),\n",
       " Text(0.11042944785276074, 0.65625, 'gini = 0.0\\nsamples = 13\\nvalue = [13, 0]'),\n",
       " Text(0.18174846625766872, 0.71875, 'x[0] <= -1.397\\ngini = 0.013\\nsamples = 5334\\nvalue = [5300, 34]'),\n",
       " Text(0.1411042944785276, 0.65625, 'x[2] <= -0.585\\ngini = 0.125\\nsamples = 434\\nvalue = [405, 29]'),\n",
       " Text(0.1165644171779141, 0.59375, 'x[1] <= 0.867\\ngini = 0.025\\nsamples = 390\\nvalue = [385, 5]'),\n",
       " Text(0.10429447852760736, 0.53125, 'x[1] <= 0.865\\ngini = 0.126\\nsamples = 59\\nvalue = [55, 4]'),\n",
       " Text(0.09815950920245399, 0.46875, 'x[0] <= -1.684\\ngini = 0.098\\nsamples = 58\\nvalue = [55, 3]'),\n",
       " Text(0.09202453987730061, 0.40625, 'x[0] <= -1.692\\ngini = 0.204\\nsamples = 26\\nvalue = [23, 3]'),\n",
       " Text(0.08588957055214724, 0.34375, 'x[1] <= 0.669\\ngini = 0.147\\nsamples = 25\\nvalue = [23, 2]'),\n",
       " Text(0.07975460122699386, 0.28125, 'x[1] <= 0.657\\ngini = 0.278\\nsamples = 12\\nvalue = [10, 2]'),\n",
       " Text(0.0736196319018405, 0.21875, 'x[0] <= -1.869\\ngini = 0.165\\nsamples = 11\\nvalue = [10, 1]'),\n",
       " Text(0.06748466257668712, 0.15625, 'gini = 0.0\\nsamples = 7\\nvalue = [7, 0]'),\n",
       " Text(0.07975460122699386, 0.15625, 'x[0] <= -1.792\\ngini = 0.375\\nsamples = 4\\nvalue = [3, 1]'),\n",
       " Text(0.0736196319018405, 0.09375, 'gini = 0.0\\nsamples = 1\\nvalue = [0, 1]'),\n",
       " Text(0.08588957055214724, 0.09375, 'gini = 0.0\\nsamples = 3\\nvalue = [3, 0]'),\n",
       " Text(0.08588957055214724, 0.21875, 'gini = 0.0\\nsamples = 1\\nvalue = [0, 1]'),\n",
       " Text(0.09202453987730061, 0.28125, 'gini = 0.0\\nsamples = 13\\nvalue = [13, 0]'),\n",
       " Text(0.09815950920245399, 0.34375, 'gini = 0.0\\nsamples = 1\\nvalue = [0, 1]'),\n",
       " Text(0.10429447852760736, 0.40625, 'gini = 0.0\\nsamples = 32\\nvalue = [32, 0]'),\n",
       " Text(0.11042944785276074, 0.46875, 'gini = 0.0\\nsamples = 1\\nvalue = [0, 1]'),\n",
       " Text(0.12883435582822086, 0.53125, 'x[3] <= 1.645\\ngini = 0.006\\nsamples = 331\\nvalue = [330, 1]'),\n",
       " Text(0.12269938650306748, 0.46875, 'gini = 0.0\\nsamples = 306\\nvalue = [306, 0]'),\n",
       " Text(0.13496932515337423, 0.46875, 'x[3] <= 1.668\\ngini = 0.077\\nsamples = 25\\nvalue = [24, 1]'),\n",
       " Text(0.12883435582822086, 0.40625, 'gini = 0.0\\nsamples = 1\\nvalue = [0, 1]'),\n",
       " Text(0.1411042944785276, 0.40625, 'gini = 0.0\\nsamples = 24\\nvalue = [24, 0]'),\n",
       " Text(0.1656441717791411, 0.59375, 'x[2] <= -0.369\\ngini = 0.496\\nsamples = 44\\nvalue = [20, 24]'),\n",
       " Text(0.15337423312883436, 0.53125, 'x[1] <= 0.304\\ngini = 0.464\\nsamples = 30\\nvalue = [19, 11]'),\n",
       " Text(0.147239263803681, 0.46875, 'gini = 0.0\\nsamples = 4\\nvalue = [0, 4]'),\n",
       " Text(0.15950920245398773, 0.46875, 'x[0] <= -2.202\\ngini = 0.393\\nsamples = 26\\nvalue = [19, 7]'),\n",
       " Text(0.15337423312883436, 0.40625, 'gini = 0.0\\nsamples = 4\\nvalue = [0, 4]'),\n",
       " Text(0.1656441717791411, 0.40625, 'x[2] <= -0.578\\ngini = 0.236\\nsamples = 22\\nvalue = [19, 3]'),\n",
       " Text(0.15950920245398773, 0.34375, 'gini = 0.0\\nsamples = 1\\nvalue = [0, 1]'),\n",
       " Text(0.17177914110429449, 0.34375, 'x[3] <= 0.689\\ngini = 0.172\\nsamples = 21\\nvalue = [19, 2]'),\n",
       " Text(0.1656441717791411, 0.28125, 'gini = 0.0\\nsamples = 14\\nvalue = [14, 0]'),\n",
       " Text(0.17791411042944785, 0.28125, 'x[2] <= -0.418\\ngini = 0.408\\nsamples = 7\\nvalue = [5, 2]'),\n",
       " Text(0.17177914110429449, 0.21875, 'x[3] <= 0.966\\ngini = 0.278\\nsamples = 6\\nvalue = [5, 1]'),\n",
       " Text(0.1656441717791411, 0.15625, 'gini = 0.0\\nsamples = 1\\nvalue = [0, 1]'),\n",
       " Text(0.17791411042944785, 0.15625, 'gini = 0.0\\nsamples = 5\\nvalue = [5, 0]'),\n",
       " Text(0.18404907975460122, 0.21875, 'gini = 0.0\\nsamples = 1\\nvalue = [0, 1]'),\n",
       " Text(0.17791411042944785, 0.53125, 'x[2] <= -0.3\\ngini = 0.133\\nsamples = 14\\nvalue = [1, 13]'),\n",
       " Text(0.17177914110429449, 0.46875, 'gini = 0.0\\nsamples = 12\\nvalue = [0, 12]'),\n",
       " Text(0.18404907975460122, 0.46875, 'x[0] <= -1.721\\ngini = 0.5\\nsamples = 2\\nvalue = [1, 1]'),\n",
       " Text(0.17791411042944785, 0.40625, 'gini = 0.0\\nsamples = 1\\nvalue = [0, 1]'),\n",
       " Text(0.1901840490797546, 0.40625, 'gini = 0.0\\nsamples = 1\\nvalue = [1, 0]'),\n",
       " Text(0.2223926380368098, 0.65625, 'x[3] <= -0.753\\ngini = 0.002\\nsamples = 4900\\nvalue = [4895, 5]'),\n",
       " Text(0.20245398773006135, 0.59375, 'x[3] <= -0.755\\ngini = 0.142\\nsamples = 13\\nvalue = [12, 1]'),\n",
       " Text(0.19631901840490798, 0.53125, 'gini = 0.0\\nsamples = 12\\nvalue = [12, 0]'),\n",
       " Text(0.2085889570552147, 0.53125, 'gini = 0.0\\nsamples = 1\\nvalue = [0, 1]'),\n",
       " Text(0.24233128834355827, 0.59375, 'x[0] <= -1.201\\ngini = 0.002\\nsamples = 4887\\nvalue = [4883, 4]'),\n",
       " Text(0.22085889570552147, 0.53125, 'x[1] <= 0.158\\ngini = 0.043\\nsamples = 135\\nvalue = [132, 3]'),\n",
       " Text(0.2085889570552147, 0.46875, 'x[0] <= -1.243\\ngini = 0.444\\nsamples = 3\\nvalue = [1, 2]'),\n",
       " Text(0.20245398773006135, 0.40625, 'gini = 0.0\\nsamples = 2\\nvalue = [0, 2]'),\n",
       " Text(0.2147239263803681, 0.40625, 'gini = 0.0\\nsamples = 1\\nvalue = [1, 0]'),\n",
       " Text(0.2331288343558282, 0.46875, 'x[0] <= -1.201\\ngini = 0.015\\nsamples = 132\\nvalue = [131, 1]'),\n",
       " Text(0.22699386503067484, 0.40625, 'gini = 0.0\\nsamples = 131\\nvalue = [131, 0]'),\n",
       " Text(0.2392638036809816, 0.40625, 'gini = 0.0\\nsamples = 1\\nvalue = [0, 1]'),\n",
       " Text(0.26380368098159507, 0.53125, 'x[3] <= -0.61\\ngini = 0.0\\nsamples = 4752\\nvalue = [4751, 1]'),\n",
       " Text(0.25766871165644173, 0.46875, 'x[3] <= -0.61\\ngini = 0.018\\nsamples = 110\\nvalue = [109, 1]'),\n",
       " Text(0.25153374233128833, 0.40625, 'gini = 0.0\\nsamples = 109\\nvalue = [109, 0]'),\n",
       " Text(0.26380368098159507, 0.40625, 'gini = 0.0\\nsamples = 1\\nvalue = [0, 1]'),\n",
       " Text(0.26993865030674846, 0.46875, 'gini = 0.0\\nsamples = 4642\\nvalue = [4642, 0]'),\n",
       " Text(0.3535276073619632, 0.84375, 'x[0] <= -0.849\\ngini = 0.433\\nsamples = 221\\nvalue = [151, 70]'),\n",
       " Text(0.3006134969325153, 0.78125, 'x[0] <= -1.919\\ngini = 0.385\\nsamples = 77\\nvalue = [20, 57]'),\n",
       " Text(0.294478527607362, 0.71875, 'gini = 0.0\\nsamples = 21\\nvalue = [0, 21]'),\n",
       " Text(0.3067484662576687, 0.71875, 'x[3] <= -0.645\\ngini = 0.459\\nsamples = 56\\nvalue = [20, 36]'),\n",
       " Text(0.2883435582822086, 0.65625, 'x[3] <= -0.935\\ngini = 0.133\\nsamples = 14\\nvalue = [1, 13]'),\n",
       " Text(0.2822085889570552, 0.59375, 'x[3] <= -0.961\\ngini = 0.444\\nsamples = 3\\nvalue = [1, 2]'),\n",
       " Text(0.27607361963190186, 0.53125, 'gini = 0.0\\nsamples = 2\\nvalue = [0, 2]'),\n",
       " Text(0.2883435582822086, 0.53125, 'gini = 0.0\\nsamples = 1\\nvalue = [1, 0]'),\n",
       " Text(0.294478527607362, 0.59375, 'gini = 0.0\\nsamples = 11\\nvalue = [0, 11]'),\n",
       " Text(0.32515337423312884, 0.65625, 'x[1] <= 0.456\\ngini = 0.495\\nsamples = 42\\nvalue = [19, 23]'),\n",
       " Text(0.3067484662576687, 0.59375, 'x[3] <= 1.185\\ngini = 0.423\\nsamples = 23\\nvalue = [7, 16]'),\n",
       " Text(0.3006134969325153, 0.53125, 'x[3] <= 0.945\\ngini = 0.475\\nsamples = 18\\nvalue = [7, 11]'),\n",
       " Text(0.294478527607362, 0.46875, 'x[0] <= -1.854\\ngini = 0.43\\nsamples = 16\\nvalue = [5, 11]'),\n",
       " Text(0.2883435582822086, 0.40625, 'gini = 0.0\\nsamples = 1\\nvalue = [1, 0]'),\n",
       " Text(0.3006134969325153, 0.40625, 'x[2] <= -0.104\\ngini = 0.391\\nsamples = 15\\nvalue = [4, 11]'),\n",
       " Text(0.2883435582822086, 0.34375, 'x[0] <= -1.009\\ngini = 0.278\\nsamples = 12\\nvalue = [2, 10]'),\n",
       " Text(0.2822085889570552, 0.28125, 'x[3] <= 0.242\\ngini = 0.165\\nsamples = 11\\nvalue = [1, 10]'),\n",
       " Text(0.27607361963190186, 0.21875, 'gini = 0.0\\nsamples = 7\\nvalue = [0, 7]'),\n",
       " Text(0.2883435582822086, 0.21875, 'x[3] <= 0.343\\ngini = 0.375\\nsamples = 4\\nvalue = [1, 3]'),\n",
       " Text(0.2822085889570552, 0.15625, 'gini = 0.0\\nsamples = 1\\nvalue = [1, 0]'),\n",
       " Text(0.294478527607362, 0.15625, 'gini = 0.0\\nsamples = 3\\nvalue = [0, 3]'),\n",
       " Text(0.294478527607362, 0.28125, 'gini = 0.0\\nsamples = 1\\nvalue = [1, 0]'),\n",
       " Text(0.3128834355828221, 0.34375, 'x[1] <= 0.342\\ngini = 0.444\\nsamples = 3\\nvalue = [2, 1]'),\n",
       " Text(0.3067484662576687, 0.28125, 'gini = 0.0\\nsamples = 2\\nvalue = [2, 0]'),\n",
       " Text(0.31901840490797545, 0.28125, 'gini = 0.0\\nsamples = 1\\nvalue = [0, 1]'),\n",
       " Text(0.3067484662576687, 0.46875, 'gini = 0.0\\nsamples = 2\\nvalue = [2, 0]'),\n",
       " Text(0.3128834355828221, 0.53125, 'gini = 0.0\\nsamples = 5\\nvalue = [0, 5]'),\n",
       " Text(0.34355828220858897, 0.59375, 'x[2] <= -0.269\\ngini = 0.465\\nsamples = 19\\nvalue = [12, 7]'),\n",
       " Text(0.3374233128834356, 0.53125, 'gini = 0.0\\nsamples = 2\\nvalue = [0, 2]'),\n",
       " Text(0.3496932515337423, 0.53125, 'x[0] <= -0.915\\ngini = 0.415\\nsamples = 17\\nvalue = [12, 5]'),\n",
       " Text(0.34355828220858897, 0.46875, 'x[3] <= -0.561\\ngini = 0.32\\nsamples = 15\\nvalue = [12, 3]'),\n",
       " Text(0.3312883435582822, 0.40625, 'x[0] <= -1.724\\ngini = 0.444\\nsamples = 3\\nvalue = [1, 2]'),\n",
       " Text(0.32515337423312884, 0.34375, 'gini = 0.0\\nsamples = 1\\nvalue = [1, 0]'),\n",
       " Text(0.3374233128834356, 0.34375, 'gini = 0.0\\nsamples = 2\\nvalue = [0, 2]'),\n",
       " Text(0.3558282208588957, 0.40625, 'x[2] <= -0.096\\ngini = 0.153\\nsamples = 12\\nvalue = [11, 1]'),\n",
       " Text(0.3496932515337423, 0.34375, 'gini = 0.0\\nsamples = 10\\nvalue = [10, 0]'),\n",
       " Text(0.3619631901840491, 0.34375, 'x[3] <= 0.853\\ngini = 0.5\\nsamples = 2\\nvalue = [1, 1]'),\n",
       " Text(0.3558282208588957, 0.28125, 'gini = 0.0\\nsamples = 1\\nvalue = [0, 1]'),\n",
       " Text(0.36809815950920244, 0.28125, 'gini = 0.0\\nsamples = 1\\nvalue = [1, 0]'),\n",
       " Text(0.3558282208588957, 0.46875, 'gini = 0.0\\nsamples = 2\\nvalue = [0, 2]'),\n",
       " Text(0.40644171779141103, 0.78125, 'x[0] <= 0.086\\ngini = 0.164\\nsamples = 144\\nvalue = [131, 13]'),\n",
       " Text(0.4003067484662577, 0.71875, 'x[1] <= 0.009\\ngini = 0.416\\nsamples = 44\\nvalue = [31, 13]'),\n",
       " Text(0.3880368098159509, 0.65625, 'x[0] <= -0.673\\ngini = 0.245\\nsamples = 7\\nvalue = [1, 6]'),\n",
       " Text(0.38190184049079756, 0.59375, 'gini = 0.0\\nsamples = 1\\nvalue = [1, 0]'),\n",
       " Text(0.3941717791411043, 0.59375, 'gini = 0.0\\nsamples = 6\\nvalue = [0, 6]'),\n",
       " Text(0.4125766871165644, 0.65625, 'x[3] <= -0.786\\ngini = 0.307\\nsamples = 37\\nvalue = [30, 7]'),\n",
       " Text(0.40644171779141103, 0.59375, 'gini = 0.0\\nsamples = 2\\nvalue = [0, 2]'),\n",
       " Text(0.4187116564417178, 0.59375, 'x[2] <= -0.083\\ngini = 0.245\\nsamples = 35\\nvalue = [30, 5]'),\n",
       " Text(0.4125766871165644, 0.53125, 'x[3] <= 1.336\\ngini = 0.208\\nsamples = 34\\nvalue = [30, 4]'),\n",
       " Text(0.39570552147239263, 0.46875, 'x[2] <= -0.263\\ngini = 0.17\\nsamples = 32\\nvalue = [29, 3]'),\n",
       " Text(0.3803680981595092, 0.40625, 'x[3] <= -0.42\\ngini = 0.5\\nsamples = 2\\nvalue = [1, 1]'),\n",
       " Text(0.37423312883435583, 0.34375, 'gini = 0.0\\nsamples = 1\\nvalue = [0, 1]'),\n",
       " Text(0.38650306748466257, 0.34375, 'gini = 0.0\\nsamples = 1\\nvalue = [1, 0]'),\n",
       " Text(0.4110429447852761, 0.40625, 'x[2] <= -0.085\\ngini = 0.124\\nsamples = 30\\nvalue = [28, 2]'),\n",
       " Text(0.3987730061349693, 0.34375, 'x[0] <= -0.633\\ngini = 0.071\\nsamples = 27\\nvalue = [26, 1]'),\n",
       " Text(0.39263803680981596, 0.28125, 'x[0] <= -0.643\\ngini = 0.219\\nsamples = 8\\nvalue = [7, 1]'),\n",
       " Text(0.38650306748466257, 0.21875, 'gini = 0.0\\nsamples = 7\\nvalue = [7, 0]'),\n",
       " Text(0.3987730061349693, 0.21875, 'gini = 0.0\\nsamples = 1\\nvalue = [0, 1]'),\n",
       " Text(0.4049079754601227, 0.28125, 'gini = 0.0\\nsamples = 19\\nvalue = [19, 0]'),\n",
       " Text(0.4233128834355828, 0.34375, 'x[2] <= -0.084\\ngini = 0.444\\nsamples = 3\\nvalue = [2, 1]'),\n",
       " Text(0.4171779141104294, 0.28125, 'gini = 0.0\\nsamples = 1\\nvalue = [0, 1]'),\n",
       " Text(0.4294478527607362, 0.28125, 'gini = 0.0\\nsamples = 2\\nvalue = [2, 0]'),\n",
       " Text(0.4294478527607362, 0.46875, 'x[3] <= 1.755\\ngini = 0.5\\nsamples = 2\\nvalue = [1, 1]'),\n",
       " Text(0.4233128834355828, 0.40625, 'gini = 0.0\\nsamples = 1\\nvalue = [0, 1]'),\n",
       " Text(0.43558282208588955, 0.40625, 'gini = 0.0\\nsamples = 1\\nvalue = [1, 0]'),\n",
       " Text(0.42484662576687116, 0.53125, 'gini = 0.0\\nsamples = 1\\nvalue = [0, 1]'),\n",
       " Text(0.4125766871165644, 0.71875, 'gini = 0.0\\nsamples = 100\\nvalue = [100, 0]'),\n",
       " Text(0.6662193251533742, 0.90625, 'x[2] <= 0.081\\ngini = 0.034\\nsamples = 6647\\nvalue = [116, 6531]'),\n",
       " Text(0.5253067484662577, 0.84375, 'x[0] <= -0.166\\ngini = 0.463\\nsamples = 151\\nvalue = [55, 96]'),\n",
       " Text(0.49846625766871167, 0.78125, 'x[0] <= -0.367\\ngini = 0.25\\nsamples = 109\\nvalue = [16, 93]'),\n",
       " Text(0.4815950920245399, 0.71875, 'x[2] <= 0.078\\ngini = 0.199\\nsamples = 98\\nvalue = [11, 87]'),\n",
       " Text(0.4754601226993865, 0.65625, 'x[1] <= 0.59\\ngini = 0.185\\nsamples = 97\\nvalue = [10, 87]'),\n",
       " Text(0.4601226993865031, 0.59375, 'x[3] <= -0.326\\ngini = 0.157\\nsamples = 93\\nvalue = [8, 85]'),\n",
       " Text(0.44785276073619634, 0.53125, 'x[1] <= 0.372\\ngini = 0.043\\nsamples = 46\\nvalue = [1, 45]'),\n",
       " Text(0.44171779141104295, 0.46875, 'gini = 0.0\\nsamples = 39\\nvalue = [0, 39]'),\n",
       " Text(0.4539877300613497, 0.46875, 'x[1] <= 0.394\\ngini = 0.245\\nsamples = 7\\nvalue = [1, 6]'),\n",
       " Text(0.44785276073619634, 0.40625, 'gini = 0.0\\nsamples = 1\\nvalue = [1, 0]'),\n",
       " Text(0.4601226993865031, 0.40625, 'gini = 0.0\\nsamples = 6\\nvalue = [0, 6]'),\n",
       " Text(0.4723926380368098, 0.53125, 'x[3] <= -0.242\\ngini = 0.254\\nsamples = 47\\nvalue = [7, 40]'),\n",
       " Text(0.4662576687116564, 0.46875, 'gini = 0.0\\nsamples = 2\\nvalue = [2, 0]'),\n",
       " Text(0.4785276073619632, 0.46875, 'x[0] <= -1.473\\ngini = 0.198\\nsamples = 45\\nvalue = [5, 40]'),\n",
       " Text(0.4723926380368098, 0.40625, 'gini = 0.0\\nsamples = 20\\nvalue = [0, 20]'),\n",
       " Text(0.48466257668711654, 0.40625, 'x[2] <= -0.061\\ngini = 0.32\\nsamples = 25\\nvalue = [5, 20]'),\n",
       " Text(0.4785276073619632, 0.34375, 'gini = 0.0\\nsamples = 1\\nvalue = [1, 0]'),\n",
       " Text(0.49079754601226994, 0.34375, 'x[0] <= -1.442\\ngini = 0.278\\nsamples = 24\\nvalue = [4, 20]'),\n",
       " Text(0.48466257668711654, 0.28125, 'gini = 0.0\\nsamples = 1\\nvalue = [1, 0]'),\n",
       " Text(0.49693251533742333, 0.28125, 'x[3] <= 1.096\\ngini = 0.227\\nsamples = 23\\nvalue = [3, 20]'),\n",
       " Text(0.49079754601226994, 0.21875, 'x[3] <= 0.469\\ngini = 0.375\\nsamples = 12\\nvalue = [3, 9]'),\n",
       " Text(0.48466257668711654, 0.15625, 'x[0] <= -0.8\\ngini = 0.18\\nsamples = 10\\nvalue = [1, 9]'),\n",
       " Text(0.4785276073619632, 0.09375, 'gini = 0.0\\nsamples = 7\\nvalue = [0, 7]'),\n",
       " Text(0.49079754601226994, 0.09375, 'x[3] <= -0.054\\ngini = 0.444\\nsamples = 3\\nvalue = [1, 2]'),\n",
       " Text(0.48466257668711654, 0.03125, 'gini = 0.0\\nsamples = 1\\nvalue = [1, 0]'),\n",
       " Text(0.49693251533742333, 0.03125, 'gini = 0.0\\nsamples = 2\\nvalue = [0, 2]'),\n",
       " Text(0.49693251533742333, 0.15625, 'gini = 0.0\\nsamples = 2\\nvalue = [2, 0]'),\n",
       " Text(0.5030674846625767, 0.21875, 'gini = 0.0\\nsamples = 11\\nvalue = [0, 11]'),\n",
       " Text(0.49079754601226994, 0.59375, 'x[1] <= 0.671\\ngini = 0.5\\nsamples = 4\\nvalue = [2, 2]'),\n",
       " Text(0.48466257668711654, 0.53125, 'gini = 0.0\\nsamples = 2\\nvalue = [2, 0]'),\n",
       " Text(0.49693251533742333, 0.53125, 'gini = 0.0\\nsamples = 2\\nvalue = [0, 2]'),\n",
       " Text(0.48773006134969327, 0.65625, 'gini = 0.0\\nsamples = 1\\nvalue = [1, 0]'),\n",
       " Text(0.5153374233128835, 0.71875, 'x[1] <= 0.185\\ngini = 0.496\\nsamples = 11\\nvalue = [5, 6]'),\n",
       " Text(0.50920245398773, 0.65625, 'x[2] <= 0.045\\ngini = 0.245\\nsamples = 7\\nvalue = [1, 6]'),\n",
       " Text(0.5030674846625767, 0.59375, 'gini = 0.0\\nsamples = 5\\nvalue = [0, 5]'),\n",
       " Text(0.5153374233128835, 0.59375, 'x[1] <= -0.497\\ngini = 0.5\\nsamples = 2\\nvalue = [1, 1]'),\n",
       " Text(0.50920245398773, 0.53125, 'gini = 0.0\\nsamples = 1\\nvalue = [0, 1]'),\n",
       " Text(0.5214723926380368, 0.53125, 'gini = 0.0\\nsamples = 1\\nvalue = [1, 0]'),\n",
       " Text(0.5214723926380368, 0.65625, 'gini = 0.0\\nsamples = 4\\nvalue = [4, 0]'),\n",
       " Text(0.5521472392638037, 0.78125, 'x[1] <= -0.062\\ngini = 0.133\\nsamples = 42\\nvalue = [39, 3]'),\n",
       " Text(0.5398773006134969, 0.71875, 'x[1] <= -0.263\\ngini = 0.5\\nsamples = 4\\nvalue = [2, 2]'),\n",
       " Text(0.5337423312883436, 0.65625, 'gini = 0.0\\nsamples = 2\\nvalue = [2, 0]'),\n",
       " Text(0.5460122699386503, 0.65625, 'gini = 0.0\\nsamples = 2\\nvalue = [0, 2]'),\n",
       " Text(0.5644171779141104, 0.71875, 'x[3] <= 1.701\\ngini = 0.051\\nsamples = 38\\nvalue = [37, 1]'),\n",
       " Text(0.558282208588957, 0.65625, 'gini = 0.0\\nsamples = 36\\nvalue = [36, 0]'),\n",
       " Text(0.5705521472392638, 0.65625, 'x[3] <= 1.773\\ngini = 0.5\\nsamples = 2\\nvalue = [1, 1]'),\n",
       " Text(0.5644171779141104, 0.59375, 'gini = 0.0\\nsamples = 1\\nvalue = [0, 1]'),\n",
       " Text(0.5766871165644172, 0.59375, 'gini = 0.0\\nsamples = 1\\nvalue = [1, 0]'),\n",
       " Text(0.8071319018404908, 0.84375, 'x[1] <= -0.02\\ngini = 0.019\\nsamples = 6496\\nvalue = [61, 6435]'),\n",
       " Text(0.674079754601227, 0.78125, 'x[2] <= 0.254\\ngini = 0.01\\nsamples = 6222\\nvalue = [31, 6191]'),\n",
       " Text(0.6012269938650306, 0.71875, 'x[0] <= 0.579\\ngini = 0.125\\nsamples = 119\\nvalue = [8, 111]'),\n",
       " Text(0.5950920245398773, 0.65625, 'x[2] <= 0.253\\ngini = 0.097\\nsamples = 117\\nvalue = [6, 111]'),\n",
       " Text(0.588957055214724, 0.59375, 'x[3] <= 1.761\\ngini = 0.082\\nsamples = 116\\nvalue = [5, 111]'),\n",
       " Text(0.5766871165644172, 0.53125, 'x[3] <= -0.687\\ngini = 0.068\\nsamples = 113\\nvalue = [4, 109]'),\n",
       " Text(0.5705521472392638, 0.46875, 'x[2] <= 0.098\\ngini = 0.18\\nsamples = 40\\nvalue = [4, 36]'),\n",
       " Text(0.5644171779141104, 0.40625, 'gini = 0.0\\nsamples = 1\\nvalue = [1, 0]'),\n",
       " Text(0.5766871165644172, 0.40625, 'x[3] <= -0.699\\ngini = 0.142\\nsamples = 39\\nvalue = [3, 36]'),\n",
       " Text(0.5705521472392638, 0.34375, 'x[1] <= -0.063\\ngini = 0.1\\nsamples = 38\\nvalue = [2, 36]'),\n",
       " Text(0.558282208588957, 0.28125, 'x[3] <= -0.843\\ngini = 0.059\\nsamples = 33\\nvalue = [1, 32]'),\n",
       " Text(0.5521472392638037, 0.21875, 'gini = 0.0\\nsamples = 26\\nvalue = [0, 26]'),\n",
       " Text(0.5644171779141104, 0.21875, 'x[0] <= -0.264\\ngini = 0.245\\nsamples = 7\\nvalue = [1, 6]'),\n",
       " Text(0.558282208588957, 0.15625, 'gini = 0.0\\nsamples = 6\\nvalue = [0, 6]'),\n",
       " Text(0.5705521472392638, 0.15625, 'gini = 0.0\\nsamples = 1\\nvalue = [1, 0]'),\n",
       " Text(0.5828220858895705, 0.28125, 'x[1] <= -0.053\\ngini = 0.32\\nsamples = 5\\nvalue = [1, 4]'),\n",
       " Text(0.5766871165644172, 0.21875, 'gini = 0.0\\nsamples = 1\\nvalue = [1, 0]'),\n",
       " Text(0.588957055214724, 0.21875, 'gini = 0.0\\nsamples = 4\\nvalue = [0, 4]'),\n",
       " Text(0.5828220858895705, 0.34375, 'gini = 0.0\\nsamples = 1\\nvalue = [1, 0]'),\n",
       " Text(0.5828220858895705, 0.46875, 'gini = 0.0\\nsamples = 73\\nvalue = [0, 73]'),\n",
       " Text(0.6012269938650306, 0.53125, 'x[3] <= 1.783\\ngini = 0.444\\nsamples = 3\\nvalue = [1, 2]'),\n",
       " Text(0.5950920245398773, 0.46875, 'gini = 0.0\\nsamples = 1\\nvalue = [1, 0]'),\n",
       " Text(0.6073619631901841, 0.46875, 'gini = 0.0\\nsamples = 2\\nvalue = [0, 2]'),\n",
       " Text(0.6012269938650306, 0.59375, 'gini = 0.0\\nsamples = 1\\nvalue = [1, 0]'),\n",
       " Text(0.6073619631901841, 0.65625, 'gini = 0.0\\nsamples = 2\\nvalue = [2, 0]'),\n",
       " Text(0.7469325153374233, 0.71875, 'x[1] <= -0.368\\ngini = 0.008\\nsamples = 6103\\nvalue = [23, 6080]'),\n",
       " Text(0.6687116564417178, 0.65625, 'x[2] <= 0.503\\ngini = 0.003\\nsamples = 5329\\nvalue = [8, 5321]'),\n",
       " Text(0.6380368098159509, 0.59375, 'x[2] <= 0.502\\ngini = 0.025\\nsamples = 233\\nvalue = [3, 230]'),\n",
       " Text(0.6319018404907976, 0.53125, 'x[3] <= -1.186\\ngini = 0.017\\nsamples = 232\\nvalue = [2, 230]'),\n",
       " Text(0.6196319018404908, 0.46875, 'x[2] <= 0.48\\ngini = 0.18\\nsamples = 10\\nvalue = [1, 9]'),\n",
       " Text(0.6134969325153374, 0.40625, 'gini = 0.0\\nsamples = 9\\nvalue = [0, 9]'),\n",
       " Text(0.6257668711656442, 0.40625, 'gini = 0.0\\nsamples = 1\\nvalue = [1, 0]'),\n",
       " Text(0.6441717791411042, 0.46875, 'x[3] <= 1.209\\ngini = 0.009\\nsamples = 222\\nvalue = [1, 221]'),\n",
       " Text(0.6380368098159509, 0.40625, 'gini = 0.0\\nsamples = 199\\nvalue = [0, 199]'),\n",
       " Text(0.6503067484662577, 0.40625, 'x[3] <= 1.238\\ngini = 0.083\\nsamples = 23\\nvalue = [1, 22]'),\n",
       " Text(0.6441717791411042, 0.34375, 'gini = 0.0\\nsamples = 1\\nvalue = [1, 0]'),\n",
       " Text(0.656441717791411, 0.34375, 'gini = 0.0\\nsamples = 22\\nvalue = [0, 22]'),\n",
       " Text(0.6441717791411042, 0.53125, 'gini = 0.0\\nsamples = 1\\nvalue = [1, 0]'),\n",
       " Text(0.6993865030674846, 0.59375, 'x[1] <= -0.519\\ngini = 0.002\\nsamples = 5096\\nvalue = [5, 5091]'),\n",
       " Text(0.6809815950920245, 0.53125, 'x[0] <= 1.676\\ngini = 0.001\\nsamples = 4611\\nvalue = [2, 4609]'),\n",
       " Text(0.6687116564417178, 0.46875, 'x[1] <= -0.653\\ngini = 0.0\\nsamples = 4460\\nvalue = [1, 4459]'),\n",
       " Text(0.6625766871165644, 0.40625, 'gini = 0.0\\nsamples = 3891\\nvalue = [0, 3891]'),\n",
       " Text(0.6748466257668712, 0.40625, 'x[1] <= -0.653\\ngini = 0.004\\nsamples = 569\\nvalue = [1, 568]'),\n",
       " Text(0.6687116564417178, 0.34375, 'gini = 0.0\\nsamples = 1\\nvalue = [1, 0]'),\n",
       " Text(0.6809815950920245, 0.34375, 'gini = 0.0\\nsamples = 568\\nvalue = [0, 568]'),\n",
       " Text(0.6932515337423313, 0.46875, 'x[2] <= 0.881\\ngini = 0.013\\nsamples = 151\\nvalue = [1, 150]'),\n",
       " Text(0.6871165644171779, 0.40625, 'gini = 0.0\\nsamples = 1\\nvalue = [1, 0]'),\n",
       " Text(0.6993865030674846, 0.40625, 'gini = 0.0\\nsamples = 150\\nvalue = [0, 150]'),\n",
       " Text(0.7177914110429447, 0.53125, 'x[1] <= -0.519\\ngini = 0.012\\nsamples = 485\\nvalue = [3, 482]'),\n",
       " Text(0.7116564417177914, 0.46875, 'gini = 0.0\\nsamples = 1\\nvalue = [1, 0]'),\n",
       " Text(0.7239263803680982, 0.46875, 'x[3] <= -1.329\\ngini = 0.008\\nsamples = 484\\nvalue = [2, 482]'),\n",
       " Text(0.7116564417177914, 0.40625, 'x[3] <= -1.333\\ngini = 0.18\\nsamples = 10\\nvalue = [1, 9]'),\n",
       " Text(0.7055214723926381, 0.34375, 'gini = 0.0\\nsamples = 9\\nvalue = [0, 9]'),\n",
       " Text(0.7177914110429447, 0.34375, 'gini = 0.0\\nsamples = 1\\nvalue = [1, 0]'),\n",
       " Text(0.7361963190184049, 0.40625, 'x[1] <= -0.504\\ngini = 0.004\\nsamples = 474\\nvalue = [1, 473]'),\n",
       " Text(0.7300613496932515, 0.34375, 'x[1] <= -0.505\\ngini = 0.034\\nsamples = 57\\nvalue = [1, 56]'),\n",
       " Text(0.7239263803680982, 0.28125, 'gini = 0.0\\nsamples = 56\\nvalue = [0, 56]'),\n",
       " Text(0.7361963190184049, 0.28125, 'gini = 0.0\\nsamples = 1\\nvalue = [1, 0]'),\n",
       " Text(0.7423312883435583, 0.34375, 'gini = 0.0\\nsamples = 417\\nvalue = [0, 417]'),\n",
       " Text(0.8251533742331288, 0.65625, 'x[1] <= -0.368\\ngini = 0.038\\nsamples = 774\\nvalue = [15, 759]'),\n",
       " Text(0.8190184049079755, 0.59375, 'gini = 0.0\\nsamples = 1\\nvalue = [1, 0]'),\n",
       " Text(0.8312883435582822, 0.59375, 'x[0] <= 0.354\\ngini = 0.036\\nsamples = 773\\nvalue = [14, 759]'),\n",
       " Text(0.7914110429447853, 0.53125, 'x[0] <= -0.004\\ngini = 0.024\\nsamples = 741\\nvalue = [9, 732]'),\n",
       " Text(0.7730061349693251, 0.46875, 'x[3] <= -0.413\\ngini = 0.015\\nsamples = 668\\nvalue = [5, 663]'),\n",
       " Text(0.7668711656441718, 0.40625, 'x[3] <= -0.418\\ngini = 0.03\\nsamples = 328\\nvalue = [5, 323]'),\n",
       " Text(0.7607361963190185, 0.34375, 'x[2] <= 0.386\\ngini = 0.024\\nsamples = 327\\nvalue = [4, 323]'),\n",
       " Text(0.7484662576687117, 0.28125, 'x[2] <= 0.386\\ngini = 0.084\\nsamples = 68\\nvalue = [3, 65]'),\n",
       " Text(0.7423312883435583, 0.21875, 'x[2] <= 0.381\\ngini = 0.058\\nsamples = 67\\nvalue = [2, 65]'),\n",
       " Text(0.7300613496932515, 0.15625, 'x[1] <= -0.068\\ngini = 0.032\\nsamples = 61\\nvalue = [1, 60]'),\n",
       " Text(0.7239263803680982, 0.09375, 'gini = 0.0\\nsamples = 53\\nvalue = [0, 53]'),\n",
       " Text(0.7361963190184049, 0.09375, 'x[1] <= -0.062\\ngini = 0.219\\nsamples = 8\\nvalue = [1, 7]'),\n",
       " Text(0.7300613496932515, 0.03125, 'gini = 0.0\\nsamples = 1\\nvalue = [1, 0]'),\n",
       " Text(0.7423312883435583, 0.03125, 'gini = 0.0\\nsamples = 7\\nvalue = [0, 7]'),\n",
       " Text(0.754601226993865, 0.15625, 'x[2] <= 0.382\\ngini = 0.278\\nsamples = 6\\nvalue = [1, 5]'),\n",
       " Text(0.7484662576687117, 0.09375, 'gini = 0.0\\nsamples = 1\\nvalue = [1, 0]'),\n",
       " Text(0.7607361963190185, 0.09375, 'gini = 0.0\\nsamples = 5\\nvalue = [0, 5]'),\n",
       " Text(0.754601226993865, 0.21875, 'gini = 0.0\\nsamples = 1\\nvalue = [1, 0]'),\n",
       " Text(0.7730061349693251, 0.28125, 'x[2] <= 0.675\\ngini = 0.008\\nsamples = 259\\nvalue = [1, 258]'),\n",
       " Text(0.7668711656441718, 0.21875, 'gini = 0.0\\nsamples = 230\\nvalue = [0, 230]'),\n",
       " Text(0.7791411042944786, 0.21875, 'x[2] <= 0.676\\ngini = 0.067\\nsamples = 29\\nvalue = [1, 28]'),\n",
       " Text(0.7730061349693251, 0.15625, 'gini = 0.0\\nsamples = 1\\nvalue = [1, 0]'),\n",
       " Text(0.7852760736196319, 0.15625, 'gini = 0.0\\nsamples = 28\\nvalue = [0, 28]'),\n",
       " Text(0.7730061349693251, 0.34375, 'gini = 0.0\\nsamples = 1\\nvalue = [1, 0]'),\n",
       " Text(0.7791411042944786, 0.40625, 'gini = 0.0\\nsamples = 340\\nvalue = [0, 340]'),\n",
       " Text(0.8098159509202454, 0.46875, 'x[0] <= -0.001\\ngini = 0.104\\nsamples = 73\\nvalue = [4, 69]'),\n",
       " Text(0.803680981595092, 0.40625, 'gini = 0.0\\nsamples = 1\\nvalue = [1, 0]'),\n",
       " Text(0.8159509202453987, 0.40625, 'x[2] <= 0.828\\ngini = 0.08\\nsamples = 72\\nvalue = [3, 69]'),\n",
       " Text(0.8098159509202454, 0.34375, 'x[2] <= 0.381\\ngini = 0.055\\nsamples = 71\\nvalue = [2, 69]'),\n",
       " Text(0.7975460122699386, 0.28125, 'x[2] <= 0.359\\ngini = 0.278\\nsamples = 6\\nvalue = [1, 5]'),\n",
       " Text(0.7914110429447853, 0.21875, 'gini = 0.0\\nsamples = 5\\nvalue = [0, 5]'),\n",
       " Text(0.803680981595092, 0.21875, 'gini = 0.0\\nsamples = 1\\nvalue = [1, 0]'),\n",
       " Text(0.8220858895705522, 0.28125, 'x[0] <= 0.066\\ngini = 0.03\\nsamples = 65\\nvalue = [1, 64]'),\n",
       " Text(0.8159509202453987, 0.21875, 'x[0] <= 0.065\\ngini = 0.142\\nsamples = 13\\nvalue = [1, 12]'),\n",
       " Text(0.8098159509202454, 0.15625, 'gini = 0.0\\nsamples = 12\\nvalue = [0, 12]'),\n",
       " Text(0.8220858895705522, 0.15625, 'gini = 0.0\\nsamples = 1\\nvalue = [1, 0]'),\n",
       " Text(0.8282208588957055, 0.21875, 'gini = 0.0\\nsamples = 52\\nvalue = [0, 52]'),\n",
       " Text(0.8220858895705522, 0.34375, 'gini = 0.0\\nsamples = 1\\nvalue = [1, 0]'),\n",
       " Text(0.8711656441717791, 0.53125, 'x[1] <= -0.104\\ngini = 0.264\\nsamples = 32\\nvalue = [5, 27]'),\n",
       " Text(0.8650306748466258, 0.46875, 'x[2] <= 0.576\\ngini = 0.18\\nsamples = 30\\nvalue = [3, 27]'),\n",
       " Text(0.8588957055214724, 0.40625, 'x[0] <= 0.874\\ngini = 0.337\\nsamples = 14\\nvalue = [3, 11]'),\n",
       " Text(0.852760736196319, 0.34375, 'x[2] <= 0.561\\ngini = 0.26\\nsamples = 13\\nvalue = [2, 11]'),\n",
       " Text(0.8466257668711656, 0.28125, 'x[3] <= 1.736\\ngini = 0.153\\nsamples = 12\\nvalue = [1, 11]'),\n",
       " Text(0.8404907975460123, 0.21875, 'gini = 0.0\\nsamples = 10\\nvalue = [0, 10]'),\n",
       " Text(0.852760736196319, 0.21875, 'x[2] <= 0.49\\ngini = 0.5\\nsamples = 2\\nvalue = [1, 1]'),\n",
       " Text(0.8466257668711656, 0.15625, 'gini = 0.0\\nsamples = 1\\nvalue = [1, 0]'),\n",
       " Text(0.8588957055214724, 0.15625, 'gini = 0.0\\nsamples = 1\\nvalue = [0, 1]'),\n",
       " Text(0.8588957055214724, 0.28125, 'gini = 0.0\\nsamples = 1\\nvalue = [1, 0]'),\n",
       " Text(0.8650306748466258, 0.34375, 'gini = 0.0\\nsamples = 1\\nvalue = [1, 0]'),\n",
       " Text(0.8711656441717791, 0.40625, 'gini = 0.0\\nsamples = 16\\nvalue = [0, 16]'),\n",
       " Text(0.8773006134969326, 0.46875, 'gini = 0.0\\nsamples = 2\\nvalue = [2, 0]'),\n",
       " Text(0.9401840490797546, 0.78125, 'x[0] <= 0.144\\ngini = 0.195\\nsamples = 274\\nvalue = [30, 244]'),\n",
       " Text(0.9340490797546013, 0.71875, 'x[0] <= -0.546\\ngini = 0.122\\nsamples = 261\\nvalue = [17, 244]'),\n",
       " Text(0.8987730061349694, 0.65625, 'x[0] <= -1.591\\ngini = 0.072\\nsamples = 213\\nvalue = [8, 205]'),\n",
       " Text(0.8926380368098159, 0.59375, 'gini = 0.0\\nsamples = 89\\nvalue = [0, 89]'),\n",
       " Text(0.9049079754601227, 0.59375, 'x[0] <= -1.582\\ngini = 0.121\\nsamples = 124\\nvalue = [8, 116]'),\n",
       " Text(0.8987730061349694, 0.53125, 'gini = 0.0\\nsamples = 1\\nvalue = [1, 0]'),\n",
       " Text(0.911042944785276, 0.53125, 'x[1] <= 0.06\\ngini = 0.107\\nsamples = 123\\nvalue = [7, 116]'),\n",
       " Text(0.8987730061349694, 0.46875, 'x[1] <= 0.058\\ngini = 0.211\\nsamples = 50\\nvalue = [6, 44]'),\n",
       " Text(0.8926380368098159, 0.40625, 'x[2] <= 0.278\\ngini = 0.183\\nsamples = 49\\nvalue = [5, 44]'),\n",
       " Text(0.8865030674846626, 0.34375, 'x[3] <= -0.81\\ngini = 0.33\\nsamples = 24\\nvalue = [5, 19]'),\n",
       " Text(0.8711656441717791, 0.28125, 'x[2] <= 0.182\\ngini = 0.444\\nsamples = 3\\nvalue = [2, 1]'),\n",
       " Text(0.8650306748466258, 0.21875, 'gini = 0.0\\nsamples = 1\\nvalue = [0, 1]'),\n",
       " Text(0.8773006134969326, 0.21875, 'gini = 0.0\\nsamples = 2\\nvalue = [2, 0]'),\n",
       " Text(0.901840490797546, 0.28125, 'x[1] <= -0.009\\ngini = 0.245\\nsamples = 21\\nvalue = [3, 18]'),\n",
       " Text(0.8895705521472392, 0.21875, 'x[1] <= -0.013\\ngini = 0.5\\nsamples = 4\\nvalue = [2, 2]'),\n",
       " Text(0.8834355828220859, 0.15625, 'gini = 0.0\\nsamples = 2\\nvalue = [0, 2]'),\n",
       " Text(0.8957055214723927, 0.15625, 'gini = 0.0\\nsamples = 2\\nvalue = [2, 0]'),\n",
       " Text(0.9141104294478528, 0.21875, 'x[0] <= -0.83\\ngini = 0.111\\nsamples = 17\\nvalue = [1, 16]'),\n",
       " Text(0.9079754601226994, 0.15625, 'gini = 0.0\\nsamples = 13\\nvalue = [0, 13]'),\n",
       " Text(0.9202453987730062, 0.15625, 'x[0] <= -0.7\\ngini = 0.375\\nsamples = 4\\nvalue = [1, 3]'),\n",
       " Text(0.9141104294478528, 0.09375, 'gini = 0.0\\nsamples = 1\\nvalue = [1, 0]'),\n",
       " Text(0.9263803680981595, 0.09375, 'gini = 0.0\\nsamples = 3\\nvalue = [0, 3]'),\n",
       " Text(0.8987730061349694, 0.34375, 'gini = 0.0\\nsamples = 25\\nvalue = [0, 25]'),\n",
       " Text(0.9049079754601227, 0.40625, 'gini = 0.0\\nsamples = 1\\nvalue = [1, 0]'),\n",
       " Text(0.9233128834355828, 0.46875, 'x[1] <= 0.37\\ngini = 0.027\\nsamples = 73\\nvalue = [1, 72]'),\n",
       " Text(0.9171779141104295, 0.40625, 'gini = 0.0\\nsamples = 69\\nvalue = [0, 69]'),\n",
       " Text(0.9294478527607362, 0.40625, 'x[1] <= 0.406\\ngini = 0.375\\nsamples = 4\\nvalue = [1, 3]'),\n",
       " Text(0.9233128834355828, 0.34375, 'gini = 0.0\\nsamples = 1\\nvalue = [1, 0]'),\n",
       " Text(0.9355828220858896, 0.34375, 'gini = 0.0\\nsamples = 3\\nvalue = [0, 3]'),\n",
       " Text(0.9693251533742331, 0.65625, 'x[0] <= -0.537\\ngini = 0.305\\nsamples = 48\\nvalue = [9, 39]'),\n",
       " Text(0.9631901840490797, 0.59375, 'gini = 0.0\\nsamples = 2\\nvalue = [2, 0]'),\n",
       " Text(0.9754601226993865, 0.59375, 'x[1] <= 0.451\\ngini = 0.258\\nsamples = 46\\nvalue = [7, 39]'),\n",
       " Text(0.9693251533742331, 0.53125, 'x[0] <= -0.422\\ngini = 0.231\\nsamples = 45\\nvalue = [6, 39]'),\n",
       " Text(0.950920245398773, 0.46875, 'x[2] <= 0.286\\ngini = 0.363\\nsamples = 21\\nvalue = [5, 16]'),\n",
       " Text(0.9447852760736196, 0.40625, 'gini = 0.0\\nsamples = 8\\nvalue = [0, 8]'),\n",
       " Text(0.9570552147239264, 0.40625, 'x[1] <= 0.157\\ngini = 0.473\\nsamples = 13\\nvalue = [5, 8]'),\n",
       " Text(0.950920245398773, 0.34375, 'x[1] <= 0.049\\ngini = 0.397\\nsamples = 11\\nvalue = [3, 8]'),\n",
       " Text(0.9447852760736196, 0.28125, 'x[1] <= 0.042\\ngini = 0.5\\nsamples = 6\\nvalue = [3, 3]'),\n",
       " Text(0.9386503067484663, 0.21875, 'x[3] <= -0.912\\ngini = 0.375\\nsamples = 4\\nvalue = [1, 3]'),\n",
       " Text(0.9325153374233128, 0.15625, 'gini = 0.0\\nsamples = 1\\nvalue = [1, 0]'),\n",
       " Text(0.9447852760736196, 0.15625, 'gini = 0.0\\nsamples = 3\\nvalue = [0, 3]'),\n",
       " Text(0.950920245398773, 0.21875, 'gini = 0.0\\nsamples = 2\\nvalue = [2, 0]'),\n",
       " Text(0.9570552147239264, 0.28125, 'gini = 0.0\\nsamples = 5\\nvalue = [0, 5]'),\n",
       " Text(0.9631901840490797, 0.34375, 'gini = 0.0\\nsamples = 2\\nvalue = [2, 0]'),\n",
       " Text(0.9877300613496932, 0.46875, 'x[2] <= 0.133\\ngini = 0.08\\nsamples = 24\\nvalue = [1, 23]'),\n",
       " Text(0.9815950920245399, 0.40625, 'x[2] <= 0.115\\ngini = 0.444\\nsamples = 3\\nvalue = [1, 2]'),\n",
       " Text(0.9754601226993865, 0.34375, 'gini = 0.0\\nsamples = 2\\nvalue = [0, 2]'),\n",
       " Text(0.9877300613496932, 0.34375, 'gini = 0.0\\nsamples = 1\\nvalue = [1, 0]'),\n",
       " Text(0.9938650306748467, 0.40625, 'gini = 0.0\\nsamples = 21\\nvalue = [0, 21]'),\n",
       " Text(0.9815950920245399, 0.53125, 'gini = 0.0\\nsamples = 1\\nvalue = [1, 0]'),\n",
       " Text(0.946319018404908, 0.71875, 'gini = 0.0\\nsamples = 13\\nvalue = [13, 0]')]"
      ]
     },
     "execution_count": 29,
     "metadata": {},
     "output_type": "execute_result"
    },
    {
     "data": {
      "image/png": "[encoded data removed]",
      "text/plain": [
       "<Figure size 432x288 with 1 Axes>"
      ]
     },
     "metadata": {},
     "output_type": "display_data"
    }
   ],
   "source": [
    "#Decisison Tree to buid the tree structure\n",
    "from sklearn.tree import DecisionTreeClassifier\n",
    "from sklearn import tree\n",
    "model1 = tree.DecisionTreeClassifier()\n",
    "model1 = model1.fit(X_train, y_train)\n",
    "y_model1 = model1.predict(X_test)\n",
    "tree.plot_tree(model1)"
   ]
  },
  {
   "cell_type": "code",
   "execution_count": 30,
   "id": "6a276d40",
   "metadata": {},
   "outputs": [],
   "source": [
    "#Random Forest\n",
    "from sklearn.ensemble import RandomForestClassifier\n",
    "model2 = RandomForestClassifier()\n",
    "model2 = model2.fit(X_train, y_train)\n",
    "y_model2 = model2.predict(X_test)"
   ]
  },
  {
   "cell_type": "code",
   "execution_count": 31,
   "id": "c8dec514",
   "metadata": {},
   "outputs": [
    {
     "data": {
      "text/plain": [
       "0.9910984848484848"
      ]
     },
     "execution_count": 31,
     "metadata": {},
     "output_type": "execute_result"
    }
   ],
   "source": [
    "from sklearn.metrics import accuracy_score\n",
    "accuracy_score(y_test, y_model2)"
   ]
  },
  {
   "cell_type": "code",
   "execution_count": 32,
   "id": "e8cd2c26",
   "metadata": {},
   "outputs": [
    {
     "name": "stdout",
     "output_type": "stream",
     "text": [
      "              precision    recall  f1-score   support\n",
      "\n",
      "           0       0.99      0.99      0.99      2409\n",
      "           1       0.99      0.99      0.99      2871\n",
      "\n",
      "    accuracy                           0.99      5280\n",
      "   macro avg       0.99      0.99      0.99      5280\n",
      "weighted avg       0.99      0.99      0.99      5280\n",
      "\n",
      "[[2377   32]\n",
      " [  15 2856]]\n"
     ]
    }
   ],
   "source": [
    "from sklearn.metrics import classification_report\n",
    "from sklearn.metrics import confusion_matrix\n",
    "print(classification_report(y_test, y_model2))\n",
    "print(confusion_matrix(y_test, y_model2))"
   ]
  },
  {
   "cell_type": "code",
   "execution_count": 33,
   "id": "5a0f2b4c",
   "metadata": {},
   "outputs": [],
   "source": [
    "#Logistics Regression\n",
    "from sklearn import linear_model\n",
    "from sklearn.linear_model import LogisticRegression\n",
    "model3 = linear_model.LogisticRegression()\n",
    "model3 = model3.fit(X_train, y_train)\n",
    "y_model3 = model3.predict(X_test)"
   ]
  },
  {
   "cell_type": "code",
   "execution_count": 34,
   "id": "f701b533",
   "metadata": {},
   "outputs": [
    {
     "data": {
      "text/plain": [
       "0.9903409090909091"
      ]
     },
     "execution_count": 34,
     "metadata": {},
     "output_type": "execute_result"
    }
   ],
   "source": [
    "from sklearn.metrics import accuracy_score\n",
    "accuracy_score(y_test, y_model3)"
   ]
  },
  {
   "cell_type": "code",
   "execution_count": 35,
   "id": "f1772ace",
   "metadata": {},
   "outputs": [
    {
     "name": "stdout",
     "output_type": "stream",
     "text": [
      "              precision    recall  f1-score   support\n",
      "\n",
      "           0       0.99      0.98      0.99      2409\n",
      "           1       0.99      1.00      0.99      2871\n",
      "\n",
      "    accuracy                           0.99      5280\n",
      "   macro avg       0.99      0.99      0.99      5280\n",
      "weighted avg       0.99      0.99      0.99      5280\n",
      "\n",
      "[[2371   38]\n",
      " [  13 2858]]\n"
     ]
    }
   ],
   "source": [
    "from sklearn.metrics import classification_report\n",
    "from sklearn.metrics import confusion_matrix\n",
    "print(classification_report(y_test, y_model3))\n",
    "print(confusion_matrix(y_test, y_model3))"
   ]
  },
  {
   "cell_type": "code",
   "execution_count": 36,
   "id": "69ad6ad6",
   "metadata": {},
   "outputs": [],
   "source": [
    "#Support Vector Classifier\n",
    "from sklearn.svm import SVC\n",
    "model4 = SVC()\n",
    "model4 = model4.fit(X_train, y_train)\n",
    "y_model4 = model4.predict(X_test)"
   ]
  },
  {
   "cell_type": "code",
   "execution_count": 37,
   "id": "9b838005",
   "metadata": {},
   "outputs": [
    {
     "data": {
      "text/plain": [
       "0.9899621212121212"
      ]
     },
     "execution_count": 37,
     "metadata": {},
     "output_type": "execute_result"
    }
   ],
   "source": [
    "from sklearn.metrics import accuracy_score\n",
    "accuracy_score(y_test, y_model4)"
   ]
  },
  {
   "cell_type": "code",
   "execution_count": 38,
   "id": "7d0f31c6",
   "metadata": {},
   "outputs": [
    {
     "name": "stdout",
     "output_type": "stream",
     "text": [
      "              precision    recall  f1-score   support\n",
      "\n",
      "           0       0.99      0.98      0.99      2409\n",
      "           1       0.99      1.00      0.99      2871\n",
      "\n",
      "    accuracy                           0.99      5280\n",
      "   macro avg       0.99      0.99      0.99      5280\n",
      "weighted avg       0.99      0.99      0.99      5280\n",
      "\n",
      "[[2370   39]\n",
      " [  14 2857]]\n"
     ]
    }
   ],
   "source": [
    "from sklearn.metrics import classification_report\n",
    "from sklearn.metrics import confusion_matrix\n",
    "print(classification_report(y_test, y_model4))\n",
    "print(confusion_matrix(y_test, y_model4))"
   ]
  },
  {
   "cell_type": "code",
   "execution_count": 39,
   "id": "783fe5ff",
   "metadata": {},
   "outputs": [],
   "source": [
    "#importing libraries and packages\n",
    "#pip install keras\n",
    "#pip install tensorflow\n",
    "import keras\n",
    "from keras.models import Sequential\n",
    "from keras.layers import Dense"
   ]
  },
  {
   "cell_type": "code",
   "execution_count": 40,
   "id": "b9265dc3",
   "metadata": {},
   "outputs": [],
   "source": [
    "#initialize the ann\n",
    "classifier = Sequential()"
   ]
  },
  {
   "cell_type": "code",
   "execution_count": 41,
   "id": "cf40497a",
   "metadata": {},
   "outputs": [],
   "source": [
    "#input layer and first hidden layer is added (4 bcs 4 variables)\n",
    "classifier.add(Dense(units = 6, kernel_initializer = 'uniform', activation = 'relu', input_dim = 4))"
   ]
  },
  {
   "cell_type": "code",
   "execution_count": 42,
   "id": "d057dfbf",
   "metadata": {},
   "outputs": [],
   "source": [
    "#second hidden layer is added\n",
    "classifier.add(Dense(units = 6, kernel_initializer = 'uniform', activation = 'relu'))"
   ]
  },
  {
   "cell_type": "code",
   "execution_count": 43,
   "id": "12590b72",
   "metadata": {},
   "outputs": [],
   "source": [
    "#output layer is added\n",
    "classifier.add(Dense(units = 1, kernel_initializer = 'uniform', activation = 'sigmoid'))"
   ]
  },
  {
   "cell_type": "code",
   "execution_count": 44,
   "id": "4c065688",
   "metadata": {},
   "outputs": [],
   "source": [
    "#compiling the ann\n",
    "classifier.compile(optimizer = 'adam', loss = 'binary_crossentropy', metrics = ['accuracy'])"
   ]
  },
  {
   "cell_type": "code",
   "execution_count": 45,
   "id": "2f3575b4",
   "metadata": {},
   "outputs": [
    {
     "name": "stdout",
     "output_type": "stream",
     "text": [
      "Epoch 1/12\n",
      "385/385 [==============================] - 3s 3ms/step - loss: 0.4022 - accuracy: 0.9156\n",
      "Epoch 2/12\n",
      "385/385 [==============================] - 1s 3ms/step - loss: 0.0517 - accuracy: 0.9881\n",
      "Epoch 3/12\n",
      "385/385 [==============================] - 1s 3ms/step - loss: 0.0382 - accuracy: 0.9888\n",
      "Epoch 4/12\n",
      "385/385 [==============================] - 1s 3ms/step - loss: 0.0363 - accuracy: 0.9891\n",
      "Epoch 5/12\n",
      "385/385 [==============================] - 1s 3ms/step - loss: 0.0357 - accuracy: 0.9890\n",
      "Epoch 6/12\n",
      "385/385 [==============================] - 1s 3ms/step - loss: 0.0355 - accuracy: 0.9890\n",
      "Epoch 7/12\n",
      "385/385 [==============================] - 1s 3ms/step - loss: 0.0353 - accuracy: 0.9889\n",
      "Epoch 8/12\n",
      "385/385 [==============================] - 1s 3ms/step - loss: 0.0353 - accuracy: 0.9891\n",
      "Epoch 9/12\n",
      "385/385 [==============================] - 1s 3ms/step - loss: 0.0350 - accuracy: 0.9890\n",
      "Epoch 10/12\n",
      "385/385 [==============================] - 1s 3ms/step - loss: 0.0350 - accuracy: 0.9894\n",
      "Epoch 11/12\n",
      "385/385 [==============================] - 1s 3ms/step - loss: 0.0349 - accuracy: 0.9892\n",
      "Epoch 12/12\n",
      "385/385 [==============================] - 1s 3ms/step - loss: 0.0350 - accuracy: 0.9893\n"
     ]
    },
    {
     "data": {
      "text/plain": [
       "<keras.callbacks.History at 0x23eba48ff40>"
      ]
     },
     "execution_count": 45,
     "metadata": {},
     "output_type": "execute_result"
    }
   ],
   "source": [
    "#fitting ann to training dataset (epoch to improve accuracy)\n",
    "#rule of thumb to select epoch value is that it should be 3 times the number of columns in the data\n",
    "#for batch size the size of 32 is the rule of thumb\n",
    "classifier.fit(X_train, y_train, batch_size = 32, epochs = 12)"
   ]
  },
  {
   "cell_type": "code",
   "execution_count": 46,
   "id": "af5cd5de",
   "metadata": {},
   "outputs": [
    {
     "name": "stdout",
     "output_type": "stream",
     "text": [
      "165/165 [==============================] - 0s 2ms/step\n"
     ]
    }
   ],
   "source": [
    "#predicting test result\n",
    "y_pred = classifier.predict(X_test)\n",
    "y_pred = (y_pred > 0.5) #(if 0 to 0.5 false)"
   ]
  },
  {
   "cell_type": "code",
   "execution_count": 47,
   "id": "993c055c",
   "metadata": {},
   "outputs": [
    {
     "name": "stdout",
     "output_type": "stream",
     "text": [
      "[[2372   37]\n",
      " [  14 2857]]\n"
     ]
    },
    {
     "data": {
      "text/plain": [
       "0.9903409090909091"
      ]
     },
     "execution_count": 47,
     "metadata": {},
     "output_type": "execute_result"
    }
   ],
   "source": [
    "from sklearn.metrics import confusion_matrix, accuracy_score\n",
    "cm = confusion_matrix(y_test, y_pred)\n",
    "print(cm)\n",
    "accuracy_score(y_test,y_pred)"
   ]
  },
  {
   "cell_type": "code",
   "execution_count": 48,
   "id": "56c3dbce",
   "metadata": {},
   "outputs": [],
   "source": [
    "#KNN\n",
    "from sklearn.neighbors import KNeighborsClassifier\n",
    "knn = KNeighborsClassifier(n_neighbors=7)\n",
    "model5 = knn.fit(X_train, y_train)\n",
    "y_pred_5 = knn.predict(X_test)"
   ]
  },
  {
   "cell_type": "code",
   "execution_count": 49,
   "id": "b608c1ad",
   "metadata": {},
   "outputs": [
    {
     "data": {
      "text/plain": [
       "0.9903409090909091"
      ]
     },
     "execution_count": 49,
     "metadata": {},
     "output_type": "execute_result"
    }
   ],
   "source": [
    "from sklearn.metrics import accuracy_score\n",
    "accuracy_score(y_test, y_pred_5)"
   ]
  },
  {
   "cell_type": "code",
   "execution_count": 50,
   "id": "0805b97e",
   "metadata": {},
   "outputs": [
    {
     "name": "stdout",
     "output_type": "stream",
     "text": [
      "              precision    recall  f1-score   support\n",
      "\n",
      "           0       0.99      0.98      0.99      2409\n",
      "           1       0.99      1.00      0.99      2871\n",
      "\n",
      "    accuracy                           0.99      5280\n",
      "   macro avg       0.99      0.99      0.99      5280\n",
      "weighted avg       0.99      0.99      0.99      5280\n",
      "\n",
      "[[2369   40]\n",
      " [  11 2860]]\n"
     ]
    }
   ],
   "source": [
    "from sklearn.metrics import classification_report\n",
    "from sklearn.metrics import confusion_matrix\n",
    "print(classification_report(y_test, y_model4))\n",
    "print(confusion_matrix(y_test, y_pred_5))"
   ]
  }
 ],
 "metadata": {
  "kernelspec": {
   "display_name": "Python 3 (ipykernel)",
   "language": "python",
   "name": "python3"
  },
  "language_info": {
   "codemirror_mode": {
    "name": "ipython",
    "version": 3
   },
   "file_extension": ".py",
   "mimetype": "text/x-python",
   "name": "python",
   "nbconvert_exporter": "python",
   "pygments_lexer": "ipython3",
   "version": "3.9.7"
  }
 },
 "nbformat": 4,
 "nbformat_minor": 5
}
